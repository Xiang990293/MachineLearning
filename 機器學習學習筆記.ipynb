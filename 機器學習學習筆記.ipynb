{
  "cells": [
    {
      "cell_type": "markdown",
      "metadata": {
        "id": "view-in-github",
        "colab_type": "text"
      },
      "source": [
        "<a href=\"https://colab.research.google.com/github/Xiang990293/MachineLearning/blob/main/%E6%A9%9F%E5%99%A8%E5%AD%B8%E7%BF%92%E5%AD%B8%E7%BF%92%E7%AD%86%E8%A8%98.ipynb\" target=\"_parent\"><img src=\"https://colab.research.google.com/assets/colab-badge.svg\" alt=\"Open In Colab\"/></a>"
      ]
    },
    {
      "cell_type": "markdown",
      "metadata": {
        "id": "MPncee9VEeLi"
      },
      "source": [
        "# 1. 準備工作"
      ]
    },
    {
      "cell_type": "markdown",
      "metadata": {
        "id": "41Cm7Dl2sFGR"
      },
      "source": [
        "## 安裝模組"
      ]
    },
    {
      "cell_type": "code",
      "execution_count": null,
      "metadata": {
        "id": "BXh2RK7mNqYS"
      },
      "outputs": [],
      "source": [
        "import pandas as pd\n",
        "import matplotlib.pyplot as plt\n",
        "import numpy as np\n",
        "from ipywidgets import interact\n",
        "import math\n",
        "import matplotlib as mpl\n",
        "from matplotlib.font_manager import fontManager as fm\n",
        "from sklearn.preprocessing import OneHotEncoder\n",
        "from sklearn.preprocessing import StandardScaler\n",
        "from sklearn.model_selection import train_test_split"
      ]
    },
    {
      "cell_type": "markdown",
      "metadata": {
        "id": "IH1CKvtmsBwD"
      },
      "source": [
        "## 下載中文字體 (from GrandmaCan)"
      ]
    },
    {
      "cell_type": "code",
      "execution_count": null,
      "metadata": {
        "colab": {
          "base_uri": "https://localhost:8080/",
          "height": 246
        },
        "id": "jPqIpuF9sACc",
        "outputId": "1cde7e92-82f2-4fc4-9d9c-05a1d0aaca68"
      },
      "outputs": [
        {
          "name": "stdout",
          "output_type": "stream",
          "text": [
            "Looking in indexes: https://pypi.org/simple, https://us-python.pkg.dev/colab-wheels/public/simple/\n",
            "Collecting wget\n",
            "  Downloading wget-3.2.zip (10 kB)\n",
            "  Preparing metadata (setup.py) ... \u001b[?25l\u001b[?25hdone\n",
            "Building wheels for collected packages: wget\n",
            "  Building wheel for wget (setup.py) ... \u001b[?25l\u001b[?25hdone\n",
            "  Created wheel for wget: filename=wget-3.2-py3-none-any.whl size=9676 sha256=c6700ce44b1da2b4df8c666a17776afd2d66af49acd5f3efe384bd417d6dcb6f\n",
            "  Stored in directory: /root/.cache/pip/wheels/8b/f1/7f/5c94f0a7a505ca1c81cd1d9208ae2064675d97582078e6c769\n",
            "Successfully built wget\n",
            "Installing collected packages: wget\n",
            "Successfully installed wget-3.2\n"
          ]
        },
        {
          "data": {
            "application/vnd.google.colaboratory.intrinsic+json": {
              "type": "string"
            },
            "text/plain": [
              "'ChineseFont.ttf'"
            ]
          },
          "execution_count": 3,
          "metadata": {},
          "output_type": "execute_result"
        }
      ],
      "source": [
        "!pip install wget\n",
        "import wget\n",
        "\n",
        "wget.download(\"https://github.com/GrandmaCan/ML/raw/main/Resgression/ChineseFont.ttf\")"
      ]
    },
    {
      "cell_type": "markdown",
      "metadata": {
        "id": "NEp3ULKfsfrA"
      },
      "source": [
        "## 下載檔案 (from GrandmaCan)"
      ]
    },
    {
      "cell_type": "markdown",
      "metadata": {
        "id": "Z0CyFETr0H0i"
      },
      "source": [
        "### 線性回歸用資料"
      ]
    },
    {
      "cell_type": "code",
      "execution_count": null,
      "metadata": {
        "id": "K9txpGYdNWIf"
      },
      "outputs": [],
      "source": [
        "url = 'https://raw.githubusercontent.com/GrandmaCan/ML/main/Resgression/Salary_Data.csv'\n",
        "data = pd.read_csv(url)\n",
        "x = data[\"YearsExperience\"]\n",
        "y = data['Salary']\n",
        "data"
      ]
    },
    {
      "cell_type": "markdown",
      "metadata": {
        "id": "04yi-laC0N0Q"
      },
      "source": [
        "### 多元線性迴歸用資料"
      ]
    },
    {
      "cell_type": "code",
      "execution_count": null,
      "metadata": {
        "id": "Zftp1TkG0RbL",
        "colab": {
          "base_uri": "https://localhost:8080/",
          "height": 1000
        },
        "outputId": "29bdebad-c0e7-43ca-f9d4-161d9816f1a4"
      },
      "outputs": [
        {
          "output_type": "execute_result",
          "data": {
            "text/plain": [
              "    YearsExperience EducationLevel City  Salary\n",
              "0               3.0             大學  城市A    45.9\n",
              "1               7.8           碩士以上  城市C    80.5\n",
              "2               2.3           高中以下  城市A    25.2\n",
              "3               5.1           高中以下  城市A    30.4\n",
              "4              10.0           碩士以上  城市B    65.7\n",
              "5               1.2           碩士以上  城市C    60.8\n",
              "6               8.6             大學  城市C    50.1\n",
              "7               6.9           碩士以上  城市A    70.3\n",
              "8               4.2             大學  城市A    40.7\n",
              "9               2.4           高中以下  城市A    28.1\n",
              "10              5.3           高中以下  城市A    32.0\n",
              "11              3.9             大學  城市A    48.3\n",
              "12              7.2           碩士以上  城市C    84.2\n",
              "13             10.0           碩士以上  城市B    70.9\n",
              "14              1.5           碩士以上  城市C    62.4\n",
              "15              8.4             大學  城市C    55.6\n",
              "16              6.5           碩士以上  城市A    72.7\n",
              "17              4.8             大學  城市A    42.9\n",
              "18              2.1           高中以下  城市A    26.5\n",
              "19              5.2           高中以下  城市A    31.6\n",
              "20              3.5             大學  城市A    43.8\n",
              "21              7.6           碩士以上  城市C    78.3\n",
              "22             10.0           碩士以上  城市B    63.6\n",
              "23              1.8           碩士以上  城市C    58.0\n",
              "24              8.2             大學  城市C    48.3\n",
              "25              6.3           碩士以上  城市A    68.4\n",
              "26              4.6             大學  城市A    38.5\n",
              "27              2.5           高中以下  城市A    24.9\n",
              "28              5.0           高中以下  城市A    29.7\n",
              "29              3.6             大學  城市A    41.6\n",
              "30              7.4           碩士以上  城市C    76.9\n",
              "31             10.0           碩士以上  城市B    60.2\n",
              "32              1.7           碩士以上  城市C    56.3\n",
              "33              8.0             大學  城市C    45.2\n",
              "34              6.1           碩士以上  城市A    65.9\n",
              "35              4.3             大學  城市A    36.7"
            ],
            "text/html": [
              "\n",
              "  <div id=\"df-81f960a1-5506-4bf3-8f2f-2ed6b7c94002\">\n",
              "    <div class=\"colab-df-container\">\n",
              "      <div>\n",
              "<style scoped>\n",
              "    .dataframe tbody tr th:only-of-type {\n",
              "        vertical-align: middle;\n",
              "    }\n",
              "\n",
              "    .dataframe tbody tr th {\n",
              "        vertical-align: top;\n",
              "    }\n",
              "\n",
              "    .dataframe thead th {\n",
              "        text-align: right;\n",
              "    }\n",
              "</style>\n",
              "<table border=\"1\" class=\"dataframe\">\n",
              "  <thead>\n",
              "    <tr style=\"text-align: right;\">\n",
              "      <th></th>\n",
              "      <th>YearsExperience</th>\n",
              "      <th>EducationLevel</th>\n",
              "      <th>City</th>\n",
              "      <th>Salary</th>\n",
              "    </tr>\n",
              "  </thead>\n",
              "  <tbody>\n",
              "    <tr>\n",
              "      <th>0</th>\n",
              "      <td>3.0</td>\n",
              "      <td>大學</td>\n",
              "      <td>城市A</td>\n",
              "      <td>45.9</td>\n",
              "    </tr>\n",
              "    <tr>\n",
              "      <th>1</th>\n",
              "      <td>7.8</td>\n",
              "      <td>碩士以上</td>\n",
              "      <td>城市C</td>\n",
              "      <td>80.5</td>\n",
              "    </tr>\n",
              "    <tr>\n",
              "      <th>2</th>\n",
              "      <td>2.3</td>\n",
              "      <td>高中以下</td>\n",
              "      <td>城市A</td>\n",
              "      <td>25.2</td>\n",
              "    </tr>\n",
              "    <tr>\n",
              "      <th>3</th>\n",
              "      <td>5.1</td>\n",
              "      <td>高中以下</td>\n",
              "      <td>城市A</td>\n",
              "      <td>30.4</td>\n",
              "    </tr>\n",
              "    <tr>\n",
              "      <th>4</th>\n",
              "      <td>10.0</td>\n",
              "      <td>碩士以上</td>\n",
              "      <td>城市B</td>\n",
              "      <td>65.7</td>\n",
              "    </tr>\n",
              "    <tr>\n",
              "      <th>5</th>\n",
              "      <td>1.2</td>\n",
              "      <td>碩士以上</td>\n",
              "      <td>城市C</td>\n",
              "      <td>60.8</td>\n",
              "    </tr>\n",
              "    <tr>\n",
              "      <th>6</th>\n",
              "      <td>8.6</td>\n",
              "      <td>大學</td>\n",
              "      <td>城市C</td>\n",
              "      <td>50.1</td>\n",
              "    </tr>\n",
              "    <tr>\n",
              "      <th>7</th>\n",
              "      <td>6.9</td>\n",
              "      <td>碩士以上</td>\n",
              "      <td>城市A</td>\n",
              "      <td>70.3</td>\n",
              "    </tr>\n",
              "    <tr>\n",
              "      <th>8</th>\n",
              "      <td>4.2</td>\n",
              "      <td>大學</td>\n",
              "      <td>城市A</td>\n",
              "      <td>40.7</td>\n",
              "    </tr>\n",
              "    <tr>\n",
              "      <th>9</th>\n",
              "      <td>2.4</td>\n",
              "      <td>高中以下</td>\n",
              "      <td>城市A</td>\n",
              "      <td>28.1</td>\n",
              "    </tr>\n",
              "    <tr>\n",
              "      <th>10</th>\n",
              "      <td>5.3</td>\n",
              "      <td>高中以下</td>\n",
              "      <td>城市A</td>\n",
              "      <td>32.0</td>\n",
              "    </tr>\n",
              "    <tr>\n",
              "      <th>11</th>\n",
              "      <td>3.9</td>\n",
              "      <td>大學</td>\n",
              "      <td>城市A</td>\n",
              "      <td>48.3</td>\n",
              "    </tr>\n",
              "    <tr>\n",
              "      <th>12</th>\n",
              "      <td>7.2</td>\n",
              "      <td>碩士以上</td>\n",
              "      <td>城市C</td>\n",
              "      <td>84.2</td>\n",
              "    </tr>\n",
              "    <tr>\n",
              "      <th>13</th>\n",
              "      <td>10.0</td>\n",
              "      <td>碩士以上</td>\n",
              "      <td>城市B</td>\n",
              "      <td>70.9</td>\n",
              "    </tr>\n",
              "    <tr>\n",
              "      <th>14</th>\n",
              "      <td>1.5</td>\n",
              "      <td>碩士以上</td>\n",
              "      <td>城市C</td>\n",
              "      <td>62.4</td>\n",
              "    </tr>\n",
              "    <tr>\n",
              "      <th>15</th>\n",
              "      <td>8.4</td>\n",
              "      <td>大學</td>\n",
              "      <td>城市C</td>\n",
              "      <td>55.6</td>\n",
              "    </tr>\n",
              "    <tr>\n",
              "      <th>16</th>\n",
              "      <td>6.5</td>\n",
              "      <td>碩士以上</td>\n",
              "      <td>城市A</td>\n",
              "      <td>72.7</td>\n",
              "    </tr>\n",
              "    <tr>\n",
              "      <th>17</th>\n",
              "      <td>4.8</td>\n",
              "      <td>大學</td>\n",
              "      <td>城市A</td>\n",
              "      <td>42.9</td>\n",
              "    </tr>\n",
              "    <tr>\n",
              "      <th>18</th>\n",
              "      <td>2.1</td>\n",
              "      <td>高中以下</td>\n",
              "      <td>城市A</td>\n",
              "      <td>26.5</td>\n",
              "    </tr>\n",
              "    <tr>\n",
              "      <th>19</th>\n",
              "      <td>5.2</td>\n",
              "      <td>高中以下</td>\n",
              "      <td>城市A</td>\n",
              "      <td>31.6</td>\n",
              "    </tr>\n",
              "    <tr>\n",
              "      <th>20</th>\n",
              "      <td>3.5</td>\n",
              "      <td>大學</td>\n",
              "      <td>城市A</td>\n",
              "      <td>43.8</td>\n",
              "    </tr>\n",
              "    <tr>\n",
              "      <th>21</th>\n",
              "      <td>7.6</td>\n",
              "      <td>碩士以上</td>\n",
              "      <td>城市C</td>\n",
              "      <td>78.3</td>\n",
              "    </tr>\n",
              "    <tr>\n",
              "      <th>22</th>\n",
              "      <td>10.0</td>\n",
              "      <td>碩士以上</td>\n",
              "      <td>城市B</td>\n",
              "      <td>63.6</td>\n",
              "    </tr>\n",
              "    <tr>\n",
              "      <th>23</th>\n",
              "      <td>1.8</td>\n",
              "      <td>碩士以上</td>\n",
              "      <td>城市C</td>\n",
              "      <td>58.0</td>\n",
              "    </tr>\n",
              "    <tr>\n",
              "      <th>24</th>\n",
              "      <td>8.2</td>\n",
              "      <td>大學</td>\n",
              "      <td>城市C</td>\n",
              "      <td>48.3</td>\n",
              "    </tr>\n",
              "    <tr>\n",
              "      <th>25</th>\n",
              "      <td>6.3</td>\n",
              "      <td>碩士以上</td>\n",
              "      <td>城市A</td>\n",
              "      <td>68.4</td>\n",
              "    </tr>\n",
              "    <tr>\n",
              "      <th>26</th>\n",
              "      <td>4.6</td>\n",
              "      <td>大學</td>\n",
              "      <td>城市A</td>\n",
              "      <td>38.5</td>\n",
              "    </tr>\n",
              "    <tr>\n",
              "      <th>27</th>\n",
              "      <td>2.5</td>\n",
              "      <td>高中以下</td>\n",
              "      <td>城市A</td>\n",
              "      <td>24.9</td>\n",
              "    </tr>\n",
              "    <tr>\n",
              "      <th>28</th>\n",
              "      <td>5.0</td>\n",
              "      <td>高中以下</td>\n",
              "      <td>城市A</td>\n",
              "      <td>29.7</td>\n",
              "    </tr>\n",
              "    <tr>\n",
              "      <th>29</th>\n",
              "      <td>3.6</td>\n",
              "      <td>大學</td>\n",
              "      <td>城市A</td>\n",
              "      <td>41.6</td>\n",
              "    </tr>\n",
              "    <tr>\n",
              "      <th>30</th>\n",
              "      <td>7.4</td>\n",
              "      <td>碩士以上</td>\n",
              "      <td>城市C</td>\n",
              "      <td>76.9</td>\n",
              "    </tr>\n",
              "    <tr>\n",
              "      <th>31</th>\n",
              "      <td>10.0</td>\n",
              "      <td>碩士以上</td>\n",
              "      <td>城市B</td>\n",
              "      <td>60.2</td>\n",
              "    </tr>\n",
              "    <tr>\n",
              "      <th>32</th>\n",
              "      <td>1.7</td>\n",
              "      <td>碩士以上</td>\n",
              "      <td>城市C</td>\n",
              "      <td>56.3</td>\n",
              "    </tr>\n",
              "    <tr>\n",
              "      <th>33</th>\n",
              "      <td>8.0</td>\n",
              "      <td>大學</td>\n",
              "      <td>城市C</td>\n",
              "      <td>45.2</td>\n",
              "    </tr>\n",
              "    <tr>\n",
              "      <th>34</th>\n",
              "      <td>6.1</td>\n",
              "      <td>碩士以上</td>\n",
              "      <td>城市A</td>\n",
              "      <td>65.9</td>\n",
              "    </tr>\n",
              "    <tr>\n",
              "      <th>35</th>\n",
              "      <td>4.3</td>\n",
              "      <td>大學</td>\n",
              "      <td>城市A</td>\n",
              "      <td>36.7</td>\n",
              "    </tr>\n",
              "  </tbody>\n",
              "</table>\n",
              "</div>\n",
              "      <button class=\"colab-df-convert\" onclick=\"convertToInteractive('df-81f960a1-5506-4bf3-8f2f-2ed6b7c94002')\"\n",
              "              title=\"Convert this dataframe to an interactive table.\"\n",
              "              style=\"display:none;\">\n",
              "        \n",
              "  <svg xmlns=\"http://www.w3.org/2000/svg\" height=\"24px\"viewBox=\"0 0 24 24\"\n",
              "       width=\"24px\">\n",
              "    <path d=\"M0 0h24v24H0V0z\" fill=\"none\"/>\n",
              "    <path d=\"M18.56 5.44l.94 2.06.94-2.06 2.06-.94-2.06-.94-.94-2.06-.94 2.06-2.06.94zm-11 1L8.5 8.5l.94-2.06 2.06-.94-2.06-.94L8.5 2.5l-.94 2.06-2.06.94zm10 10l.94 2.06.94-2.06 2.06-.94-2.06-.94-.94-2.06-.94 2.06-2.06.94z\"/><path d=\"M17.41 7.96l-1.37-1.37c-.4-.4-.92-.59-1.43-.59-.52 0-1.04.2-1.43.59L10.3 9.45l-7.72 7.72c-.78.78-.78 2.05 0 2.83L4 21.41c.39.39.9.59 1.41.59.51 0 1.02-.2 1.41-.59l7.78-7.78 2.81-2.81c.8-.78.8-2.07 0-2.86zM5.41 20L4 18.59l7.72-7.72 1.47 1.35L5.41 20z\"/>\n",
              "  </svg>\n",
              "      </button>\n",
              "      \n",
              "  <style>\n",
              "    .colab-df-container {\n",
              "      display:flex;\n",
              "      flex-wrap:wrap;\n",
              "      gap: 12px;\n",
              "    }\n",
              "\n",
              "    .colab-df-convert {\n",
              "      background-color: #E8F0FE;\n",
              "      border: none;\n",
              "      border-radius: 50%;\n",
              "      cursor: pointer;\n",
              "      display: none;\n",
              "      fill: #1967D2;\n",
              "      height: 32px;\n",
              "      padding: 0 0 0 0;\n",
              "      width: 32px;\n",
              "    }\n",
              "\n",
              "    .colab-df-convert:hover {\n",
              "      background-color: #E2EBFA;\n",
              "      box-shadow: 0px 1px 2px rgba(60, 64, 67, 0.3), 0px 1px 3px 1px rgba(60, 64, 67, 0.15);\n",
              "      fill: #174EA6;\n",
              "    }\n",
              "\n",
              "    [theme=dark] .colab-df-convert {\n",
              "      background-color: #3B4455;\n",
              "      fill: #D2E3FC;\n",
              "    }\n",
              "\n",
              "    [theme=dark] .colab-df-convert:hover {\n",
              "      background-color: #434B5C;\n",
              "      box-shadow: 0px 1px 3px 1px rgba(0, 0, 0, 0.15);\n",
              "      filter: drop-shadow(0px 1px 2px rgba(0, 0, 0, 0.3));\n",
              "      fill: #FFFFFF;\n",
              "    }\n",
              "  </style>\n",
              "\n",
              "      <script>\n",
              "        const buttonEl =\n",
              "          document.querySelector('#df-81f960a1-5506-4bf3-8f2f-2ed6b7c94002 button.colab-df-convert');\n",
              "        buttonEl.style.display =\n",
              "          google.colab.kernel.accessAllowed ? 'block' : 'none';\n",
              "\n",
              "        async function convertToInteractive(key) {\n",
              "          const element = document.querySelector('#df-81f960a1-5506-4bf3-8f2f-2ed6b7c94002');\n",
              "          const dataTable =\n",
              "            await google.colab.kernel.invokeFunction('convertToInteractive',\n",
              "                                                     [key], {});\n",
              "          if (!dataTable) return;\n",
              "\n",
              "          const docLinkHtml = 'Like what you see? Visit the ' +\n",
              "            '<a target=\"_blank\" href=https://colab.research.google.com/notebooks/data_table.ipynb>data table notebook</a>'\n",
              "            + ' to learn more about interactive tables.';\n",
              "          element.innerHTML = '';\n",
              "          dataTable['output_type'] = 'display_data';\n",
              "          await google.colab.output.renderOutput(dataTable, element);\n",
              "          const docLink = document.createElement('div');\n",
              "          docLink.innerHTML = docLinkHtml;\n",
              "          element.appendChild(docLink);\n",
              "        }\n",
              "      </script>\n",
              "    </div>\n",
              "  </div>\n",
              "  "
            ]
          },
          "metadata": {},
          "execution_count": 53
        }
      ],
      "source": [
        "url = 'https://raw.githubusercontent.com/GrandmaCan/ML/main/Resgression/Salary_Data2.csv'\n",
        "data2 = pd.read_csv(url)\n",
        "data2"
      ]
    },
    {
      "cell_type": "markdown",
      "metadata": {
        "id": "Gmq_2-ilrlqC"
      },
      "source": [
        "### 邏輯回歸"
      ]
    },
    {
      "cell_type": "code",
      "execution_count": null,
      "metadata": {
        "colab": {
          "base_uri": "https://localhost:8080/",
          "height": 423
        },
        "id": "m7DLNXDUrpHp",
        "outputId": "0f47081f-3c5f-41d3-e097-45102b49ce66"
      },
      "outputs": [
        {
          "output_type": "execute_result",
          "data": {
            "text/plain": [
              "     Age  Weight  BloodSugar Gender  Diabetes\n",
              "0     25     119       130.8     男生         1\n",
              "1     66     102       128.1     女生         1\n",
              "2     59      65       103.9     男生         0\n",
              "3     46     117        94.8     女生         0\n",
              "4     45      79        57.8     男生         0\n",
              "..   ...     ...         ...    ...       ...\n",
              "395   72      63        97.1     女生         0\n",
              "396   22     117       156.7     女生         1\n",
              "397   31      76       119.0     男生         0\n",
              "398   36      65        96.3     女生         1\n",
              "399   38      75       106.3     男生         0\n",
              "\n",
              "[400 rows x 5 columns]"
            ],
            "text/html": [
              "\n",
              "  <div id=\"df-a5dfab9e-11e6-4472-8b6b-5dd4d727f7d5\">\n",
              "    <div class=\"colab-df-container\">\n",
              "      <div>\n",
              "<style scoped>\n",
              "    .dataframe tbody tr th:only-of-type {\n",
              "        vertical-align: middle;\n",
              "    }\n",
              "\n",
              "    .dataframe tbody tr th {\n",
              "        vertical-align: top;\n",
              "    }\n",
              "\n",
              "    .dataframe thead th {\n",
              "        text-align: right;\n",
              "    }\n",
              "</style>\n",
              "<table border=\"1\" class=\"dataframe\">\n",
              "  <thead>\n",
              "    <tr style=\"text-align: right;\">\n",
              "      <th></th>\n",
              "      <th>Age</th>\n",
              "      <th>Weight</th>\n",
              "      <th>BloodSugar</th>\n",
              "      <th>Gender</th>\n",
              "      <th>Diabetes</th>\n",
              "    </tr>\n",
              "  </thead>\n",
              "  <tbody>\n",
              "    <tr>\n",
              "      <th>0</th>\n",
              "      <td>25</td>\n",
              "      <td>119</td>\n",
              "      <td>130.8</td>\n",
              "      <td>男生</td>\n",
              "      <td>1</td>\n",
              "    </tr>\n",
              "    <tr>\n",
              "      <th>1</th>\n",
              "      <td>66</td>\n",
              "      <td>102</td>\n",
              "      <td>128.1</td>\n",
              "      <td>女生</td>\n",
              "      <td>1</td>\n",
              "    </tr>\n",
              "    <tr>\n",
              "      <th>2</th>\n",
              "      <td>59</td>\n",
              "      <td>65</td>\n",
              "      <td>103.9</td>\n",
              "      <td>男生</td>\n",
              "      <td>0</td>\n",
              "    </tr>\n",
              "    <tr>\n",
              "      <th>3</th>\n",
              "      <td>46</td>\n",
              "      <td>117</td>\n",
              "      <td>94.8</td>\n",
              "      <td>女生</td>\n",
              "      <td>0</td>\n",
              "    </tr>\n",
              "    <tr>\n",
              "      <th>4</th>\n",
              "      <td>45</td>\n",
              "      <td>79</td>\n",
              "      <td>57.8</td>\n",
              "      <td>男生</td>\n",
              "      <td>0</td>\n",
              "    </tr>\n",
              "    <tr>\n",
              "      <th>...</th>\n",
              "      <td>...</td>\n",
              "      <td>...</td>\n",
              "      <td>...</td>\n",
              "      <td>...</td>\n",
              "      <td>...</td>\n",
              "    </tr>\n",
              "    <tr>\n",
              "      <th>395</th>\n",
              "      <td>72</td>\n",
              "      <td>63</td>\n",
              "      <td>97.1</td>\n",
              "      <td>女生</td>\n",
              "      <td>0</td>\n",
              "    </tr>\n",
              "    <tr>\n",
              "      <th>396</th>\n",
              "      <td>22</td>\n",
              "      <td>117</td>\n",
              "      <td>156.7</td>\n",
              "      <td>女生</td>\n",
              "      <td>1</td>\n",
              "    </tr>\n",
              "    <tr>\n",
              "      <th>397</th>\n",
              "      <td>31</td>\n",
              "      <td>76</td>\n",
              "      <td>119.0</td>\n",
              "      <td>男生</td>\n",
              "      <td>0</td>\n",
              "    </tr>\n",
              "    <tr>\n",
              "      <th>398</th>\n",
              "      <td>36</td>\n",
              "      <td>65</td>\n",
              "      <td>96.3</td>\n",
              "      <td>女生</td>\n",
              "      <td>1</td>\n",
              "    </tr>\n",
              "    <tr>\n",
              "      <th>399</th>\n",
              "      <td>38</td>\n",
              "      <td>75</td>\n",
              "      <td>106.3</td>\n",
              "      <td>男生</td>\n",
              "      <td>0</td>\n",
              "    </tr>\n",
              "  </tbody>\n",
              "</table>\n",
              "<p>400 rows × 5 columns</p>\n",
              "</div>\n",
              "      <button class=\"colab-df-convert\" onclick=\"convertToInteractive('df-a5dfab9e-11e6-4472-8b6b-5dd4d727f7d5')\"\n",
              "              title=\"Convert this dataframe to an interactive table.\"\n",
              "              style=\"display:none;\">\n",
              "        \n",
              "  <svg xmlns=\"http://www.w3.org/2000/svg\" height=\"24px\"viewBox=\"0 0 24 24\"\n",
              "       width=\"24px\">\n",
              "    <path d=\"M0 0h24v24H0V0z\" fill=\"none\"/>\n",
              "    <path d=\"M18.56 5.44l.94 2.06.94-2.06 2.06-.94-2.06-.94-.94-2.06-.94 2.06-2.06.94zm-11 1L8.5 8.5l.94-2.06 2.06-.94-2.06-.94L8.5 2.5l-.94 2.06-2.06.94zm10 10l.94 2.06.94-2.06 2.06-.94-2.06-.94-.94-2.06-.94 2.06-2.06.94z\"/><path d=\"M17.41 7.96l-1.37-1.37c-.4-.4-.92-.59-1.43-.59-.52 0-1.04.2-1.43.59L10.3 9.45l-7.72 7.72c-.78.78-.78 2.05 0 2.83L4 21.41c.39.39.9.59 1.41.59.51 0 1.02-.2 1.41-.59l7.78-7.78 2.81-2.81c.8-.78.8-2.07 0-2.86zM5.41 20L4 18.59l7.72-7.72 1.47 1.35L5.41 20z\"/>\n",
              "  </svg>\n",
              "      </button>\n",
              "      \n",
              "  <style>\n",
              "    .colab-df-container {\n",
              "      display:flex;\n",
              "      flex-wrap:wrap;\n",
              "      gap: 12px;\n",
              "    }\n",
              "\n",
              "    .colab-df-convert {\n",
              "      background-color: #E8F0FE;\n",
              "      border: none;\n",
              "      border-radius: 50%;\n",
              "      cursor: pointer;\n",
              "      display: none;\n",
              "      fill: #1967D2;\n",
              "      height: 32px;\n",
              "      padding: 0 0 0 0;\n",
              "      width: 32px;\n",
              "    }\n",
              "\n",
              "    .colab-df-convert:hover {\n",
              "      background-color: #E2EBFA;\n",
              "      box-shadow: 0px 1px 2px rgba(60, 64, 67, 0.3), 0px 1px 3px 1px rgba(60, 64, 67, 0.15);\n",
              "      fill: #174EA6;\n",
              "    }\n",
              "\n",
              "    [theme=dark] .colab-df-convert {\n",
              "      background-color: #3B4455;\n",
              "      fill: #D2E3FC;\n",
              "    }\n",
              "\n",
              "    [theme=dark] .colab-df-convert:hover {\n",
              "      background-color: #434B5C;\n",
              "      box-shadow: 0px 1px 3px 1px rgba(0, 0, 0, 0.15);\n",
              "      filter: drop-shadow(0px 1px 2px rgba(0, 0, 0, 0.3));\n",
              "      fill: #FFFFFF;\n",
              "    }\n",
              "  </style>\n",
              "\n",
              "      <script>\n",
              "        const buttonEl =\n",
              "          document.querySelector('#df-a5dfab9e-11e6-4472-8b6b-5dd4d727f7d5 button.colab-df-convert');\n",
              "        buttonEl.style.display =\n",
              "          google.colab.kernel.accessAllowed ? 'block' : 'none';\n",
              "\n",
              "        async function convertToInteractive(key) {\n",
              "          const element = document.querySelector('#df-a5dfab9e-11e6-4472-8b6b-5dd4d727f7d5');\n",
              "          const dataTable =\n",
              "            await google.colab.kernel.invokeFunction('convertToInteractive',\n",
              "                                                     [key], {});\n",
              "          if (!dataTable) return;\n",
              "\n",
              "          const docLinkHtml = 'Like what you see? Visit the ' +\n",
              "            '<a target=\"_blank\" href=https://colab.research.google.com/notebooks/data_table.ipynb>data table notebook</a>'\n",
              "            + ' to learn more about interactive tables.';\n",
              "          element.innerHTML = '';\n",
              "          dataTable['output_type'] = 'display_data';\n",
              "          await google.colab.output.renderOutput(dataTable, element);\n",
              "          const docLink = document.createElement('div');\n",
              "          docLink.innerHTML = docLinkHtml;\n",
              "          element.appendChild(docLink);\n",
              "        }\n",
              "      </script>\n",
              "    </div>\n",
              "  </div>\n",
              "  "
            ]
          },
          "metadata": {},
          "execution_count": 73
        }
      ],
      "source": [
        "url = 'https://raw.githubusercontent.com/GrandmaCan/ML/main/Classification/Diabetes_Data.csv'\n",
        "data3 = pd.read_csv(url)\n",
        "data3"
      ]
    },
    {
      "cell_type": "markdown",
      "metadata": {
        "id": "N_Vvrwzayahk"
      },
      "source": [
        "## 資料來源\n",
        "\n",
        "* [1] 【機器學習 Machine Learning】3小時初學者教學 - GrandmaCan\n",
        " - https://www.youtube.com/watch?v=wm9yR1VspPs\n",
        "* [2] Sigmoid function - WikiPedia\n",
        " - https://en.wikipedia.org/wiki/Sigmoid_function"
      ]
    },
    {
      "cell_type": "markdown",
      "metadata": {
        "id": "Am6s77SVE6Ok"
      },
      "source": [
        "# 2. 繪製出所有**年資(x)對應月薪(y)**"
      ]
    },
    {
      "cell_type": "markdown",
      "metadata": {
        "id": "0dg6C2BL3PAm"
      },
      "source": [
        "先將下載下來的**年資(x)對應月薪(y)**的圖繪製下來\n",
        "\n",
        "這裡中文顯示的問題需要透過下載前面提供的字體來彌補\n",
        "* figure()內的figsize定義圖表長寬\n",
        "* scatter()在圖表中新增點\n",
        "* title()定義圖表標題\n",
        "* xlabel()定義圖表x軸座標軸標題\n",
        "* ylabel()定義圖表y軸座標軸標題"
      ]
    },
    {
      "cell_type": "code",
      "execution_count": null,
      "metadata": {
        "colab": {
          "base_uri": "https://localhost:8080/",
          "height": 350
        },
        "id": "uYpgWwXY3OaC",
        "outputId": "a4ce6987-a0b2-40bb-b3fb-b05e8d21e23a"
      },
      "outputs": [
        {
          "data": {
            "text/plain": [
              "Text(0, 0.5, '月薪(K)')"
            ]
          },
          "execution_count": 195,
          "metadata": {},
          "output_type": "execute_result"
        },
        {
          "data": {
            "image/png": "[encoded data removed]",
            "text/plain": [
              "<Figure size 500x300 with 1 Axes>"
            ]
          },
          "metadata": {},
          "output_type": "display_data"
        }
      ],
      "source": [
        "plt.figure(figsize=(5, 3))\n",
        "plt.scatter(x, y, marker = \"x\", color=\"red\")\n",
        "plt.title(\"年資-薪水\")\n",
        "plt.xlabel(\"年資\")\n",
        "plt.ylabel(\"月薪(K)\")"
      ]
    },
    {
      "cell_type": "markdown",
      "metadata": {
        "id": "PdqArLAvTFnY"
      },
      "source": [
        "#3. 簡單線性迴歸 - 找出迴歸直線"
      ]
    },
    {
      "cell_type": "markdown",
      "metadata": {
        "id": "-QM_YmkC6E1o"
      },
      "source": [
        "定義這些資料的迴歸線為：\n",
        "y_pred = w\\*x + b\n",
        "\n",
        "把繪製迴歸線和資料點的程式碼包裝成函數，並代入假定的w=9和b=29"
      ]
    },
    {
      "cell_type": "code",
      "execution_count": null,
      "metadata": {
        "colab": {
          "base_uri": "https://localhost:8080/",
          "height": 333
        },
        "id": "2-pgPHWw6SfZ",
        "outputId": "56229d2d-f2c9-4e5b-a6e5-49c60c83a530"
      },
      "outputs": [
        {
          "data": {
            "image/png": "[encoded data removed]",
            "text/plain": [
              "<Figure size 500x300 with 1 Axes>"
            ]
          },
          "metadata": {},
          "output_type": "display_data"
        }
      ],
      "source": [
        "def plot_pred(w, b):\n",
        "  plt.figure(figsize=(5, 3))\n",
        "  y_pred = w*x + b\n",
        "  plt.plot(x, y_pred, label=\"預測線\", color=\"blue\")\n",
        "  plt.scatter(x, y, label=\"真實數據\", marker = \"x\", color=\"red\")\n",
        "  plt.title(\"年資-薪水\")\n",
        "  plt.xlabel(\"年資\")\n",
        "  plt.ylabel(\"月薪(K)\")\n",
        "  plt.xlim([0, 12])\n",
        "  plt.ylim([20,140])\n",
        "  plt.legend()\n",
        "  plt.show()\n",
        "\n",
        "plot_pred(9, 29)"
      ]
    },
    {
      "cell_type": "markdown",
      "metadata": {
        "id": "7LLWvRnpTtBf"
      },
      "source": [
        "可以使用ipywidgets模組中的interact函數來新增滑桿\n",
        "\n",
        "讓w和b對迴歸直線產生的影響更直覺"
      ]
    },
    {
      "cell_type": "code",
      "execution_count": null,
      "metadata": {
        "colab": {
          "base_uri": "https://localhost:8080/",
          "height": 414,
          "referenced_widgets": [
            "a9ec63d295d94ab3b110d58e7f7e15af",
            "83409b499f484d1bb104c6ed40996267",
            "0b2f863ddae9449e9171cf918dd68d04",
            "b2a6804f4d97499a8fba513d05f4071e",
            "facf99fc8f7c4621974b1b6d07e17a10",
            "54dde88cb4e0449ba17ccc32104bbfa1",
            "3f614972d0364b6fb59cfb1294d24c01",
            "998da539ab8c4290a8b8c051b73f90c0",
            "844fa5d849ec4cd6bf2584ef5ba564ee",
            "b5c5f1b6d532421e9ba3872a1563f797"
          ]
        },
        "id": "N7Grp9E4BEGP",
        "outputId": "4cb7cb2d-3d2e-44ef-fa2a-2d287c5a5d41"
      },
      "outputs": [
        {
          "data": {
            "application/vnd.jupyter.widget-view+json": {
              "model_id": "a9ec63d295d94ab3b110d58e7f7e15af",
              "version_major": 2,
              "version_minor": 0
            },
            "text/plain": [
              "interactive(children=(IntSlider(value=0, description='w', max=20, min=-20), IntSlider(value=0, description='b'…"
            ]
          },
          "metadata": {},
          "output_type": "display_data"
        },
        {
          "data": {
            "text/plain": [
              "<function __main__.plot_pred(w, b)>"
            ]
          },
          "execution_count": 198,
          "metadata": {},
          "output_type": "execute_result"
        }
      ],
      "source": [
        "interact(plot_pred, w=(-20, 20, 1), b=(-100, 100, 1))"
      ]
    },
    {
      "cell_type": "markdown",
      "metadata": {
        "id": "dbkkH4N8VkoT"
      },
      "source": [
        "c. 最小平方法(least squares method)"
      ]
    },
    {
      "cell_type": "markdown",
      "metadata": {
        "id": "KxTofLX6DBja"
      },
      "source": [
        "## a. 回想之前高中學過的手算迴歸直線"
      ]
    },
    {
      "cell_type": "markdown",
      "metadata": {
        "id": "NrbVlPqheZ6N"
      },
      "source": [
        "高中數學曾經學過，迴歸直線的斜率可以通過標準差和相關係數求得，便可使用點斜式求得迴歸直線。\n",
        "\n",
        "其中相關係數r又可以通過以下方法求得，以下是求得迴歸直線 y=w\\*x+b 的過程：\n",
        "1. 分別計算已知資料X和Y的平均\n",
        "2. 計算各個項目的離均差(與平均相減之差)\n",
        "3. 計算各個離均差的平方(將負號消去)\n",
        "4. 計算同一資料點的x和y離均差的積(將離均差相乘)\n",
        "5. 分別計算x和y的離均差平方總和\n",
        "```\n",
        "　　　　　|　１|　２|　３|　４|　５|平均\n",
        "　　Ｘ　　|　６|　４|１０|　８|　２|　６\n",
        "　　Ｙ　　|　７|　１|　９|　５|　３|　５\n",
        "Ｘ的離均差|　０|－２|　４|　２|－４|\n",
        "Ｙ的離均差|　２|－４|　４|　０|－２|總計\n",
        "均差平方Ｘ|　０|　４|１６|　４|１６|４０\n",
        "均差平方Ｙ|　４|１６|１６|　０|　４|４０\n",
        "兩均差之積|　０|　８|１６|　０|　８|３２\n",
        "(註：為方便對齊，本表除分隔線外使用全形字符和空格)\n",
        "```\n",
        "6. 將4.所得資料除以5.所得兩資料分別開根號之積\n",
        "7. 6.之所得即為相關係數r\n",
        "```\n",
        "r \n",
        "= 兩均差乘積 / sqrt(均差平方X) * sqrt(均差平方Y)\n",
        "= 32 / sqrt(40) * sqrt(40)\n",
        "= 32 / 40\n",
        "= 0.8\n",
        "```\n",
        "8. 標準差\n",
        "```\n",
        "= sqrt(變異數)\n",
        "= sqrt(離均差平方平均)\n",
        "= sqrt(離均差平方總和 / 資料數)\n",
        "```\n",
        "9. 標準差 \n",
        "10. 迴歸直線斜率 w\n",
        "```\n",
        "w = 相關係數r * (標準差(x)/標準差(y))\n",
        "以上列例子：\n",
        "w \n",
        "= 0.8 * sqrt(40/5)/sqrt(40/5) \n",
        "= 0.8\n",
        "```\n",
        "\n",
        "* 註：\n",
        "  * 離均差平方X 記做 Sxx\n",
        "  * 離均差平方Y 記做 Syy\n",
        "  * 兩均差積 記做 Sxy\n"
      ]
    },
    {
      "cell_type": "markdown",
      "metadata": {
        "id": "4YvLHBF8CfXP"
      },
      "source": [
        "11. 迴歸直線: (y - y的平均) = w \\* (x - x的平均)\n",
        "\n",
        "(y - 5) = 0.8 \\* (x - 6)即為本例所求迴歸直線"
      ]
    },
    {
      "cell_type": "markdown",
      "metadata": {
        "id": "HY7DPhURC-k0"
      },
      "source": [
        "## b. 讓python用這方法算算看年資和月薪的迴歸直線"
      ]
    },
    {
      "cell_type": "markdown",
      "metadata": {
        "id": "EqclQCb4S1y-"
      },
      "source": [
        "一樣先下載資料"
      ]
    },
    {
      "cell_type": "code",
      "execution_count": null,
      "metadata": {
        "id": "WjAuJDWDQgMk"
      },
      "outputs": [],
      "source": [
        "url = 'https://raw.githubusercontent.com/GrandmaCan/ML/main/Resgression/Salary_Data.csv'\n",
        "data = pd.read_csv(url)\n",
        "\n",
        "x = data[\"YearsExperience\"]\n",
        "y = data['Salary']"
      ]
    },
    {
      "cell_type": "markdown",
      "metadata": {
        "id": "c_RdUXZlDvot"
      },
      "source": [
        "定義計算離均差的函數"
      ]
    },
    {
      "cell_type": "code",
      "execution_count": null,
      "metadata": {
        "id": "NLOrHnP9DwfP"
      },
      "outputs": [],
      "source": [
        "def deviation_from_mean(d):\n",
        "  m = d.mean()\n",
        "  temp_data = d - m\n",
        "  return temp_data"
      ]
    },
    {
      "cell_type": "markdown",
      "metadata": {
        "id": "67qQ63ZXFGoj"
      },
      "source": [
        "### 定義S_xx、S_yy、S_xy\n",
        "* S_xx: X的離均差平方\n",
        "* S_yy: Y的離均差平方\n",
        "* S_xy: XY離均差相乘"
      ]
    },
    {
      "cell_type": "code",
      "execution_count": null,
      "metadata": {
        "id": "qZfuj1dcFGHl"
      },
      "outputs": [],
      "source": [
        "dfmx = deviation_from_mean(x)\n",
        "dfmy = deviation_from_mean(y)\n",
        "s_xx = (dfmx * dfmx).sum()\n",
        "s_yy = (dfmy * dfmy).sum()\n",
        "s_xy = (dfmx * dfmy).sum()"
      ]
    },
    {
      "cell_type": "markdown",
      "metadata": {
        "id": "htyq5KQDK7NU"
      },
      "source": [
        "### 定義相關係數與斜率"
      ]
    },
    {
      "cell_type": "code",
      "execution_count": null,
      "metadata": {
        "id": "Xd5Y3Z7TLBiy"
      },
      "outputs": [],
      "source": [
        "r = s_xy / (math.sqrt(s_xx)*math.sqrt(s_yy))\n",
        "w = r * (math.sqrt(s_yy/len(y))/math.sqrt(s_xx/len(x)))"
      ]
    },
    {
      "cell_type": "markdown",
      "metadata": {
        "id": "-5hcQphJLmCL"
      },
      "source": [
        "剛剛說迴歸直線是：\n",
        "```\n",
        "(y - y的平均) = w * (x - x的平均)\n",
        "```\n",
        "在本例即\n",
        "```\n",
        "(y_pred - y.mean()) = w * (x - x.mean())\n",
        "y_pred = ( w * (x - x.mean()) ) + y.mean()\n",
        "y_pred = w * x - w * x.mean() + y.mean()\n",
        "```\n",
        "其中 w \\* x.mean() 和 y.mean() 為常數，可以合併，\n",
        "\n",
        "也就是先前提到的b\n",
        "\n",
        "因此\n",
        "```\n",
        "b = - w * x.mean() + y.mean()\n",
        "```"
      ]
    },
    {
      "cell_type": "markdown",
      "metadata": {
        "id": "Pesp63QaLOgN"
      },
      "source": [
        "### 試著畫圖看看\n",
        "\n",
        "跟原本的資料點一起繪製，並列印w和b的值"
      ]
    },
    {
      "cell_type": "code",
      "execution_count": null,
      "metadata": {
        "colab": {
          "base_uri": "https://localhost:8080/",
          "height": 350
        },
        "id": "92dsaNIrLVmO",
        "outputId": "bec22378-022b-44e8-cdf1-8e6af63fa4c7"
      },
      "outputs": [
        {
          "data": {
            "image/png": "[encoded data removed]",
            "text/plain": [
              "<Figure size 500x300 with 1 Axes>"
            ]
          },
          "metadata": {},
          "output_type": "display_data"
        },
        {
          "name": "stdout",
          "output_type": "stream",
          "text": [
            "9.123739380610026 28.01107835708258\n"
          ]
        }
      ],
      "source": [
        "b = -1 * w * x.mean() + y.mean()\n",
        "\n",
        "plot_pred(w, b)\n",
        "print(w, b)"
      ]
    },
    {
      "cell_type": "markdown",
      "metadata": {
        "id": "ii41C9HhvDaS"
      },
      "source": [
        "### 利用找到的w和b組合製作迴歸直線預測月薪"
      ]
    },
    {
      "cell_type": "code",
      "execution_count": null,
      "metadata": {
        "colab": {
          "base_uri": "https://localhost:8080/"
        },
        "id": "A-Lp77vYvJlA",
        "outputId": "dece0504-835a-45d7-9945-c24ceb41ff55"
      },
      "outputs": [
        {
          "name": "stdout",
          "output_type": "stream",
          "text": [
            "年資 3.5: 59.94416618921767K\n",
            "年資 5.9: 81.84114070268174K\n"
          ]
        }
      ],
      "source": [
        "print(f\"年資 3.5: {w * 3.5 + b}K\")\n",
        "print(f\"年資 5.9: {w * 5.9 + b}K\")"
      ]
    },
    {
      "cell_type": "markdown",
      "metadata": {
        "id": "Y_k7ICvhalQX"
      },
      "source": [
        "## c. 既然是電腦，試試暴力破解？\n",
        "\n",
        "現在的目標，是讓python自己找到最適合的預測直線--迴歸直線\n",
        "\n",
        "令「每個**真實資料點到預測直線的差**的平方和」是該預測直線的總分\n",
        "\n",
        "這個總分越小，代表預測直線到真實資料點間的平均距離是越小的，當總分達到最小值，代表找到與各個真實資料點間的平均距離是越小預測直線。\n",
        "\n",
        "此時稱該預測直線為迴歸直線，而這裡的**總分**對應到每個不同w和b的組合所繪製出來的圖形被稱為**成本函數(cost function)**。\n",
        "\n",
        "即剛剛的**總分**即**成本**\n",
        "\n"
      ]
    },
    {
      "cell_type": "markdown",
      "metadata": {
        "id": "dmnl3zcIEVd2"
      },
      "source": [
        "### 定義成本函數\n",
        "\n",
        "也就是不同b和w的組合下，預測直線與實際資料的落差總平均"
      ]
    },
    {
      "cell_type": "code",
      "execution_count": null,
      "metadata": {
        "id": "uVMfpdQCOC8R"
      },
      "outputs": [],
      "source": [
        "def compute_cost(x, y, w, b):\n",
        "  y_pred = w*x + b\n",
        "  cost = (y - y_pred)**2 #所有實際資料和預測值線的離均差平方\n",
        "  cost = cost.mean() #為了讓成本函數圖形不要過度變形，取對離均差平方取平均\n",
        "\n",
        "  return cost"
      ]
    },
    {
      "cell_type": "code",
      "execution_count": null,
      "metadata": {
        "colab": {
          "base_uri": "https://localhost:8080/"
        },
        "id": "AOdXrSg9PlOt",
        "outputId": "b035a5ea-8731-45c6-cf51-fe4c70555611"
      },
      "outputs": [
        {
          "data": {
            "text/plain": [
              "227.88121212121214"
            ]
          },
          "execution_count": 15,
          "metadata": {},
          "output_type": "execute_result"
        }
      ],
      "source": [
        "compute_cost(x, y, 10, 10)"
      ]
    },
    {
      "cell_type": "markdown",
      "metadata": {
        "id": "9T_k_gwiw4a8"
      },
      "source": [
        "### 當b=0時的成本函數長怎樣呢?"
      ]
    },
    {
      "cell_type": "code",
      "execution_count": null,
      "metadata": {
        "id": "N0vKutT5PotD"
      },
      "outputs": [],
      "source": [
        "costs = [compute_cost(x, y, i, 0) for i in range(-100, 101) ]\n",
        "costs"
      ]
    },
    {
      "cell_type": "code",
      "execution_count": null,
      "metadata": {
        "colab": {
          "base_uri": "https://localhost:8080/",
          "height": 489
        },
        "id": "qRvNrbtqxPTp",
        "outputId": "ae40bac5-13d4-47ba-a247-861eb317121d"
      },
      "outputs": [
        {
          "data": {
            "text/plain": [
              "Text(0, 0.5, 'costs')"
            ]
          },
          "execution_count": 292,
          "metadata": {},
          "output_type": "execute_result"
        },
        {
          "data": {
            "image/png": "[encoded data removed]",
            "text/plain": [
              "<Figure size 640x480 with 1 Axes>"
            ]
          },
          "metadata": {},
          "output_type": "display_data"
        }
      ],
      "source": [
        "plt.plot(range(-100, 101), costs)\n",
        "plt.title(\"cost function b=0 w=-100~100\")\n",
        "plt.xlabel(\"w\")\n",
        "plt.ylabel(\"costs\")"
      ]
    },
    {
      "cell_type": "markdown",
      "metadata": {
        "id": "A_YCHqB7nq6e"
      },
      "source": [
        "### 暴力破解！！\n",
        "\n",
        "用numpy取-100到100的整數，\n",
        "\n",
        "用for的巢狀迴圈遍歷所有w,b在[-100,100]的各個組合"
      ]
    },
    {
      "cell_type": "code",
      "execution_count": null,
      "metadata": {
        "id": "eSPZz6EpnkCJ"
      },
      "outputs": [],
      "source": [
        "import numpy as np\n",
        "\n",
        "ws = np.arange(-100, 101)\n",
        "bs = np.arange(-100, 101)\n",
        "\n",
        "costs = np.zeros((201, 201))\n",
        "\n",
        "i=0\n",
        "for w in ws:\n",
        "  j=0\n",
        "  for b in ws:\n",
        "    cost = compute_cost(x, y, w, b)\n",
        "    costs[i, j] = cost\n",
        "    j = j+1\n",
        "  i = i+1"
      ]
    },
    {
      "cell_type": "markdown",
      "metadata": {
        "id": "qO-cLCxKtNnF"
      },
      "source": [
        "### 繪製成本函數和尋找最小值"
      ]
    },
    {
      "cell_type": "code",
      "execution_count": null,
      "metadata": {
        "colab": {
          "base_uri": "https://localhost:8080/",
          "height": 336
        },
        "id": "TzkfOxmptUd1",
        "outputId": "dadb6401-ed78-4da5-eda0-1bb05784e38c"
      },
      "outputs": [
        {
          "name": "stdout",
          "output_type": "stream",
          "text": [
            "當w=[9], b=[29] 會有最小costs:[32.69484848]\n"
          ]
        },
        {
          "data": {
            "image/png": "[encoded data removed]",
            "text/plain": [
              "<Figure size 300x300 with 1 Axes>"
            ]
          },
          "metadata": {},
          "output_type": "display_data"
        }
      ],
      "source": [
        "fm.addfont(\"ChineseFont.ttf\")\n",
        "mpl.rc('font', family=\"ChineseFont\")\n",
        "\n",
        "plt.figure(figsize=(3, 3))\n",
        "ax = plt.axes(projection=\"3d\")\n",
        "ax.view_init(45, 60) #攝影機和原點之連線 和 平面wb的夾角 和 與w軸正向之夾角\n",
        "\n",
        "b_grid, w_grid = np.meshgrid(bs, ws)\n",
        "ax.plot_surface(w_grid, b_grid, costs, cmap=\"Spectral_r\", alpha=0.7)\n",
        "ax.plot_wireframe(w_grid, b_grid, costs, color='black', alpha=0.1)\n",
        "\n",
        "ax.set_title(\"w, b對應的cost\")\n",
        "ax.set_xlabel(\"w\")\n",
        "ax.set_ylabel(\"b\")\n",
        "ax.set_zlabel(\"cost\")\n",
        "\n",
        "w_index, b_index = np.where(costs == np.min(costs))\n",
        "ax.scatter(ws[w_index], bs[b_index], costs[w_index, b_index], color=\"red\", s=40)\n",
        "\n",
        "print(f\"當w={ws[w_index]}, b={bs[b_index]} 會有最小costs:{costs[w_index, b_index]}\")"
      ]
    },
    {
      "cell_type": "markdown",
      "metadata": {
        "id": "d2H2quJrvf2e"
      },
      "source": [
        "### 利用找到的w和b組合製作迴歸直線預測月薪"
      ]
    },
    {
      "cell_type": "code",
      "execution_count": null,
      "metadata": {
        "colab": {
          "base_uri": "https://localhost:8080/"
        },
        "id": "55zuKwihvjRA",
        "outputId": "b6f8884e-3edd-496a-d35d-ec1827add55a"
      },
      "outputs": [
        {
          "name": "stdout",
          "output_type": "stream",
          "text": [
            "年資 3.5: [60.5]K\n",
            "年資 5.9: [82.1]K\n"
          ]
        }
      ],
      "source": [
        "print(f\"年資 3.5: {ws[w_index] * 3.5 + bs[b_index]}K\")\n",
        "print(f\"年資 5.9: {ws[w_index] * 5.9 + bs[b_index]}K\")"
      ]
    },
    {
      "cell_type": "markdown",
      "metadata": {
        "id": "V7YA0fy1hlGD"
      },
      "source": [
        "## d. 梯度下降法 - 線性迴歸的**優化器**"
      ]
    },
    {
      "cell_type": "markdown",
      "metadata": {
        "id": "qxjNf9FmtamX"
      },
      "source": [
        "### 定義梯度\n",
        "\n",
        "梯度--任一點在圖上向兩軸的斜率\n",
        "\n",
        "透過將\n",
        "```\n",
        "(y - y的預測值)^2\n",
        "```\n",
        "或是\n",
        "```\n",
        "(y - (w*x + b))^2\n",
        "```\n",
        "化成微分方程式，一個對w偏微分，一個對b偏微分\n",
        "```\n",
        "2*x*(w*x+b - y)\n",
        "2 *(w*x+b - y)\n",
        "```\n",
        "這裡的2因為可以視為學習率的一部份，所以可以省略\n",
        "```\n",
        "x*(w*x+b - y)\n",
        " (w*x+b - y)\n",
        "```"
      ]
    },
    {
      "cell_type": "code",
      "execution_count": null,
      "metadata": {
        "id": "4dgiuPbMbo3A"
      },
      "outputs": [],
      "source": [
        "def compute_gradient(x, y, w, b):\n",
        "  w_gradient = (x*(w*x+b - y)).mean()\n",
        "  b_gradient = ( (w*x+b - y)).mean()\n",
        "  return w_gradient, b_gradient"
      ]
    },
    {
      "cell_type": "code",
      "execution_count": null,
      "metadata": {
        "colab": {
          "base_uri": "https://localhost:8080/"
        },
        "id": "zCETzYUpcnBW",
        "outputId": "53d59ab1-a744-499c-b3d9-b0813d82c2da"
      },
      "outputs": [
        {
          "data": {
            "text/plain": [
              "(268.54757575757577, 35.084848484848486)"
            ]
          },
          "execution_count": 265,
          "metadata": {},
          "output_type": "execute_result"
        }
      ],
      "source": [
        "compute_gradient(x, y, 20, 10)"
      ]
    },
    {
      "cell_type": "markdown",
      "metadata": {
        "id": "9yhQtD4iuzLE"
      },
      "source": [
        "### 定義梯度下降的迭代函式\n",
        "\n",
        "利用類似牛頓法的方式，通過取線上斜率得知下一個點的移動方向和大小\n",
        "\n",
        "回傳值包含：\n",
        "* w的最終值\n",
        "* b的最終值\n",
        "* w的變化史\n",
        "* b的變化史\n",
        "* 成本的變化史\n"
      ]
    },
    {
      "cell_type": "code",
      "execution_count": null,
      "metadata": {
        "id": "_3RNIeacctn-"
      },
      "outputs": [],
      "source": [
        "def gradient_descent(x, y, w_init, b_init, learning_rate, cost_function, gradient_function, run_iter, p_iter=1000):\n",
        "  c_hist = []\n",
        "  w_hist = []\n",
        "  b_hist = []\n",
        "  \n",
        "  w = w_init\n",
        "  b = b_init\n",
        "  \n",
        "  for i in range(run_iter):\n",
        "    w_gradient, b_gradient = gradient_function(x, y, w, b)\n",
        "    \n",
        "    w = w - w_gradient*learning_rate\n",
        "    b = b - b_gradient*learning_rate\n",
        "    cost = cost_function(x, y, w, b)\n",
        "\n",
        "    w_hist.append(w)\n",
        "    b_hist.append(b)\n",
        "    c_hist.append(cost)\n",
        "\n",
        "    if i%p_iter==0:\n",
        "      print(f\"iteration {i:5}: Cost: {cost: .4e}, w: {w: .4e}, b: {b: .4e}, w_gradient: {w_gradient: .4e}, b_gradient: {b_gradient: .4e}\")\n",
        "\n",
        "  return w, b, w_hist, b_hist, c_hist"
      ]
    },
    {
      "cell_type": "markdown",
      "metadata": {
        "id": "YFMwW6M9vGy0"
      },
      "source": [
        "### 呼叫和執行梯度下降迭代函數\n",
        "\n",
        "代入以下值：\n",
        "* x = 真實資料值，代表年資\n",
        "* y = 真實資料值，代表各個年資所對應的月薪\n",
        "* w_init = 初始w值，等一下要跑迴圈\n",
        "* b_init = 初始b值，等一下要跑迴圈\n",
        "* learning_rate = 學習率，每次迭代時，w和b每次變動的倍率\n",
        "* cost_function = 成本函數，這裡直接輸入剛剛的成本函數\n",
        "* gradient_function = 梯度函數，這裡直接輸入剛剛的梯度函數\n",
        "* run_iter = 迭代次數，代表w和b的迭代次數\n",
        "* p_iter = 輸出中間結果時的迭代次數間距"
      ]
    },
    {
      "cell_type": "code",
      "execution_count": null,
      "metadata": {
        "id": "GavQd2zwjNoV"
      },
      "outputs": [],
      "source": [
        "w_fin, b_fin, w_list, b_list, c_list = gradient_descent(x, y, -100, -100, 1.0e-2, compute_cost, compute_gradient, 10000, 1000)"
      ]
    },
    {
      "cell_type": "markdown",
      "metadata": {
        "id": "LOQsLepQscog"
      },
      "source": [
        "### 繪出成本函數和點(w,b)的迭代路徑"
      ]
    },
    {
      "cell_type": "code",
      "execution_count": null,
      "metadata": {
        "colab": {
          "base_uri": "https://localhost:8080/",
          "height": 336
        },
        "id": "yFy12uG7m2GO",
        "outputId": "232a6da3-83d1-478d-d746-82801dbe112c"
      },
      "outputs": [
        {
          "name": "stdout",
          "output_type": "stream",
          "text": [
            "當w=[9], b=[29] 會有最小costs:[32.69484848]\n"
          ]
        },
        {
          "data": {
            "image/png": "[encoded data removed]",
            "text/plain": [
              "<Figure size 300x300 with 1 Axes>"
            ]
          },
          "metadata": {},
          "output_type": "display_data"
        }
      ],
      "source": [
        "fm.addfont(\"ChineseFont.ttf\")\n",
        "mpl.rc('font', family=\"ChineseFont\")\n",
        "\n",
        "plt.figure(figsize=(3, 3))\n",
        "ax = plt.axes(projection=\"3d\")\n",
        "ax.view_init(45, 60) #攝影機和原點之連線 和 平面wb的夾角 和 與w軸正向之夾腳\n",
        "ax.xaxis.set_pane_color((1, 1, 1)) #設定x平面是黑色(深色模式則會相反)\n",
        "ax.yaxis.set_pane_color((1, 1, 1)) #設定y平面是黑色(深色模式則會相反)\n",
        "ax.zaxis.set_pane_color((1, 1, 1)) #設定z平面是黑色(深色模式則會相反)\n",
        "\n",
        "\n",
        "b_grid, w_grid = np.meshgrid(bs, ws)\n",
        "ax.plot_surface(w_grid, b_grid, costs, alpha=0.3)\n",
        "# ax.plot_surface(w_grid, b_grid, costs, cmap=\"Spectral_r\", alpha=0.7)\n",
        "# ax.plot_wireframe(w_grid, b_grid, costs, color='black', alpha=0.1)\n",
        "\n",
        "ax.set_title(\"w, b對應的cost\")\n",
        "ax.set_xlabel(\"w\")\n",
        "ax.set_ylabel(\"b\")\n",
        "ax.set_zlabel(\"cost\")\n",
        "\n",
        "w_index, b_index = np.where(costs == np.min(costs))\n",
        "ax.scatter(ws[w_index], bs[b_index], costs[w_index, b_index], color=\"red\", s=40)\n",
        "ax.scatter(w_list[0], b_list[0], c_list[0], color=\"green\", s=40)\n",
        "ax.plot(w_list, b_list, c_list)\n",
        "\n",
        "print(f\"當w={ws[w_index]}, b={bs[b_index]} 會有最小costs:{costs[w_index, b_index]}\")"
      ]
    },
    {
      "cell_type": "markdown",
      "metadata": {
        "id": "x_ttdOS1uY_n"
      },
      "source": [
        "### 繪製迭代次數與成本的關係"
      ]
    },
    {
      "cell_type": "code",
      "execution_count": null,
      "metadata": {
        "colab": {
          "base_uri": "https://localhost:8080/",
          "height": 350
        },
        "id": "NwUYKYsAlvL2",
        "outputId": "9223f1fd-9406-4d8f-be5e-10d5fa5ce26a"
      },
      "outputs": [
        {
          "data": {
            "text/plain": [
              "Text(0, 0.5, 'cost')"
            ]
          },
          "execution_count": 275,
          "metadata": {},
          "output_type": "execute_result"
        },
        {
          "data": {
            "image/png": "[encoded data removed]",
            "text/plain": [
              "<Figure size 500x300 with 1 Axes>"
            ]
          },
          "metadata": {},
          "output_type": "display_data"
        }
      ],
      "source": [
        "plt.figure(figsize=(5, 3))\n",
        "plt.plot(np.arange(0, 100), c_list[:100])\n",
        "plt.title(\"iteration vs cost\")\n",
        "plt.xlabel(\"iteration\")\n",
        "plt.ylabel(\"cost\")"
      ]
    },
    {
      "cell_type": "markdown",
      "metadata": {
        "id": "-GEVE9Z0ukij"
      },
      "source": [
        "### 輸出結果"
      ]
    },
    {
      "cell_type": "code",
      "execution_count": null,
      "metadata": {
        "colab": {
          "base_uri": "https://localhost:8080/"
        },
        "id": "83qRTDr1kr1F",
        "outputId": "42571c50-0e58-4fd7-8729-51831c35689b"
      },
      "outputs": [
        {
          "name": "stdout",
          "output_type": "stream",
          "text": [
            "最終w b=(9.14, 27.89)\n"
          ]
        }
      ],
      "source": [
        "print(f\"最終w b=({w_fin:.2f}, {b_fin:.2f})\")"
      ]
    },
    {
      "cell_type": "markdown",
      "metadata": {
        "id": "o2Sr6KX1usH5"
      },
      "source": [
        "### 利用找到的w和b組合製作迴歸直線預測月薪"
      ]
    },
    {
      "cell_type": "code",
      "execution_count": null,
      "metadata": {
        "colab": {
          "base_uri": "https://localhost:8080/"
        },
        "id": "AR7-7isUlHZK",
        "outputId": "e5f54431-eaeb-40d7-9c66-739fdf1db38a"
      },
      "outputs": [
        {
          "name": "stdout",
          "output_type": "stream",
          "text": [
            "年資 3.5: 56.35535373546275K\n",
            "年資 5.9: 80.97877752760868K\n"
          ]
        }
      ],
      "source": [
        "print(f\"年資 3.5: {w_fin* 3.5 + b_fin}K\")\n",
        "print(f\"年資 5.9: {w_fin* 5.9 + b_fin}K\")"
      ]
    },
    {
      "cell_type": "markdown",
      "metadata": {
        "id": "K0Z7KDZt1BR3"
      },
      "source": [
        "#4. 多元線性迴歸\n",
        "\n",
        "利用以下式子：\n",
        "\n",
        "y = w1\\*x1 + w2\\*x2 + w3\\*x3 + ... + b\n",
        "\n",
        "計算所有特徵與y之間的關係"
      ]
    },
    {
      "cell_type": "markdown",
      "metadata": {
        "id": "_UObkhjpRRRb"
      },
      "source": [
        "先來看看資料內容"
      ]
    },
    {
      "cell_type": "code",
      "execution_count": null,
      "metadata": {
        "id": "O_rv2YbR1smk"
      },
      "outputs": [],
      "source": [
        "data2"
      ]
    },
    {
      "cell_type": "markdown",
      "metadata": {
        "id": "Gc8m0u9u1tNe"
      },
      "source": [
        "## 有等級關係的轉換 - Label Encoding\n",
        "\n",
        "首先對非數字特徵進行數值轉換"
      ]
    },
    {
      "cell_type": "code",
      "execution_count": null,
      "metadata": {
        "id": "XzgaNbAM1m6U",
        "colab": {
          "base_uri": "https://localhost:8080/",
          "height": 1000
        },
        "outputId": "b321b130-048c-4044-8270-16f81a6bd1e5"
      },
      "outputs": [
        {
          "output_type": "execute_result",
          "data": {
            "text/plain": [
              "    YearsExperience  EducationLevel City  Salary\n",
              "0               3.0               1  城市A    45.9\n",
              "1               7.8               2  城市C    80.5\n",
              "2               2.3               0  城市A    25.2\n",
              "3               5.1               0  城市A    30.4\n",
              "4              10.0               2  城市B    65.7\n",
              "5               1.2               2  城市C    60.8\n",
              "6               8.6               1  城市C    50.1\n",
              "7               6.9               2  城市A    70.3\n",
              "8               4.2               1  城市A    40.7\n",
              "9               2.4               0  城市A    28.1\n",
              "10              5.3               0  城市A    32.0\n",
              "11              3.9               1  城市A    48.3\n",
              "12              7.2               2  城市C    84.2\n",
              "13             10.0               2  城市B    70.9\n",
              "14              1.5               2  城市C    62.4\n",
              "15              8.4               1  城市C    55.6\n",
              "16              6.5               2  城市A    72.7\n",
              "17              4.8               1  城市A    42.9\n",
              "18              2.1               0  城市A    26.5\n",
              "19              5.2               0  城市A    31.6\n",
              "20              3.5               1  城市A    43.8\n",
              "21              7.6               2  城市C    78.3\n",
              "22             10.0               2  城市B    63.6\n",
              "23              1.8               2  城市C    58.0\n",
              "24              8.2               1  城市C    48.3\n",
              "25              6.3               2  城市A    68.4\n",
              "26              4.6               1  城市A    38.5\n",
              "27              2.5               0  城市A    24.9\n",
              "28              5.0               0  城市A    29.7\n",
              "29              3.6               1  城市A    41.6\n",
              "30              7.4               2  城市C    76.9\n",
              "31             10.0               2  城市B    60.2\n",
              "32              1.7               2  城市C    56.3\n",
              "33              8.0               1  城市C    45.2\n",
              "34              6.1               2  城市A    65.9\n",
              "35              4.3               1  城市A    36.7"
            ],
            "text/html": [
              "\n",
              "  <div id=\"df-1fcc0991-17b6-43eb-8bb1-4c98f0c2c810\">\n",
              "    <div class=\"colab-df-container\">\n",
              "      <div>\n",
              "<style scoped>\n",
              "    .dataframe tbody tr th:only-of-type {\n",
              "        vertical-align: middle;\n",
              "    }\n",
              "\n",
              "    .dataframe tbody tr th {\n",
              "        vertical-align: top;\n",
              "    }\n",
              "\n",
              "    .dataframe thead th {\n",
              "        text-align: right;\n",
              "    }\n",
              "</style>\n",
              "<table border=\"1\" class=\"dataframe\">\n",
              "  <thead>\n",
              "    <tr style=\"text-align: right;\">\n",
              "      <th></th>\n",
              "      <th>YearsExperience</th>\n",
              "      <th>EducationLevel</th>\n",
              "      <th>City</th>\n",
              "      <th>Salary</th>\n",
              "    </tr>\n",
              "  </thead>\n",
              "  <tbody>\n",
              "    <tr>\n",
              "      <th>0</th>\n",
              "      <td>3.0</td>\n",
              "      <td>1</td>\n",
              "      <td>城市A</td>\n",
              "      <td>45.9</td>\n",
              "    </tr>\n",
              "    <tr>\n",
              "      <th>1</th>\n",
              "      <td>7.8</td>\n",
              "      <td>2</td>\n",
              "      <td>城市C</td>\n",
              "      <td>80.5</td>\n",
              "    </tr>\n",
              "    <tr>\n",
              "      <th>2</th>\n",
              "      <td>2.3</td>\n",
              "      <td>0</td>\n",
              "      <td>城市A</td>\n",
              "      <td>25.2</td>\n",
              "    </tr>\n",
              "    <tr>\n",
              "      <th>3</th>\n",
              "      <td>5.1</td>\n",
              "      <td>0</td>\n",
              "      <td>城市A</td>\n",
              "      <td>30.4</td>\n",
              "    </tr>\n",
              "    <tr>\n",
              "      <th>4</th>\n",
              "      <td>10.0</td>\n",
              "      <td>2</td>\n",
              "      <td>城市B</td>\n",
              "      <td>65.7</td>\n",
              "    </tr>\n",
              "    <tr>\n",
              "      <th>5</th>\n",
              "      <td>1.2</td>\n",
              "      <td>2</td>\n",
              "      <td>城市C</td>\n",
              "      <td>60.8</td>\n",
              "    </tr>\n",
              "    <tr>\n",
              "      <th>6</th>\n",
              "      <td>8.6</td>\n",
              "      <td>1</td>\n",
              "      <td>城市C</td>\n",
              "      <td>50.1</td>\n",
              "    </tr>\n",
              "    <tr>\n",
              "      <th>7</th>\n",
              "      <td>6.9</td>\n",
              "      <td>2</td>\n",
              "      <td>城市A</td>\n",
              "      <td>70.3</td>\n",
              "    </tr>\n",
              "    <tr>\n",
              "      <th>8</th>\n",
              "      <td>4.2</td>\n",
              "      <td>1</td>\n",
              "      <td>城市A</td>\n",
              "      <td>40.7</td>\n",
              "    </tr>\n",
              "    <tr>\n",
              "      <th>9</th>\n",
              "      <td>2.4</td>\n",
              "      <td>0</td>\n",
              "      <td>城市A</td>\n",
              "      <td>28.1</td>\n",
              "    </tr>\n",
              "    <tr>\n",
              "      <th>10</th>\n",
              "      <td>5.3</td>\n",
              "      <td>0</td>\n",
              "      <td>城市A</td>\n",
              "      <td>32.0</td>\n",
              "    </tr>\n",
              "    <tr>\n",
              "      <th>11</th>\n",
              "      <td>3.9</td>\n",
              "      <td>1</td>\n",
              "      <td>城市A</td>\n",
              "      <td>48.3</td>\n",
              "    </tr>\n",
              "    <tr>\n",
              "      <th>12</th>\n",
              "      <td>7.2</td>\n",
              "      <td>2</td>\n",
              "      <td>城市C</td>\n",
              "      <td>84.2</td>\n",
              "    </tr>\n",
              "    <tr>\n",
              "      <th>13</th>\n",
              "      <td>10.0</td>\n",
              "      <td>2</td>\n",
              "      <td>城市B</td>\n",
              "      <td>70.9</td>\n",
              "    </tr>\n",
              "    <tr>\n",
              "      <th>14</th>\n",
              "      <td>1.5</td>\n",
              "      <td>2</td>\n",
              "      <td>城市C</td>\n",
              "      <td>62.4</td>\n",
              "    </tr>\n",
              "    <tr>\n",
              "      <th>15</th>\n",
              "      <td>8.4</td>\n",
              "      <td>1</td>\n",
              "      <td>城市C</td>\n",
              "      <td>55.6</td>\n",
              "    </tr>\n",
              "    <tr>\n",
              "      <th>16</th>\n",
              "      <td>6.5</td>\n",
              "      <td>2</td>\n",
              "      <td>城市A</td>\n",
              "      <td>72.7</td>\n",
              "    </tr>\n",
              "    <tr>\n",
              "      <th>17</th>\n",
              "      <td>4.8</td>\n",
              "      <td>1</td>\n",
              "      <td>城市A</td>\n",
              "      <td>42.9</td>\n",
              "    </tr>\n",
              "    <tr>\n",
              "      <th>18</th>\n",
              "      <td>2.1</td>\n",
              "      <td>0</td>\n",
              "      <td>城市A</td>\n",
              "      <td>26.5</td>\n",
              "    </tr>\n",
              "    <tr>\n",
              "      <th>19</th>\n",
              "      <td>5.2</td>\n",
              "      <td>0</td>\n",
              "      <td>城市A</td>\n",
              "      <td>31.6</td>\n",
              "    </tr>\n",
              "    <tr>\n",
              "      <th>20</th>\n",
              "      <td>3.5</td>\n",
              "      <td>1</td>\n",
              "      <td>城市A</td>\n",
              "      <td>43.8</td>\n",
              "    </tr>\n",
              "    <tr>\n",
              "      <th>21</th>\n",
              "      <td>7.6</td>\n",
              "      <td>2</td>\n",
              "      <td>城市C</td>\n",
              "      <td>78.3</td>\n",
              "    </tr>\n",
              "    <tr>\n",
              "      <th>22</th>\n",
              "      <td>10.0</td>\n",
              "      <td>2</td>\n",
              "      <td>城市B</td>\n",
              "      <td>63.6</td>\n",
              "    </tr>\n",
              "    <tr>\n",
              "      <th>23</th>\n",
              "      <td>1.8</td>\n",
              "      <td>2</td>\n",
              "      <td>城市C</td>\n",
              "      <td>58.0</td>\n",
              "    </tr>\n",
              "    <tr>\n",
              "      <th>24</th>\n",
              "      <td>8.2</td>\n",
              "      <td>1</td>\n",
              "      <td>城市C</td>\n",
              "      <td>48.3</td>\n",
              "    </tr>\n",
              "    <tr>\n",
              "      <th>25</th>\n",
              "      <td>6.3</td>\n",
              "      <td>2</td>\n",
              "      <td>城市A</td>\n",
              "      <td>68.4</td>\n",
              "    </tr>\n",
              "    <tr>\n",
              "      <th>26</th>\n",
              "      <td>4.6</td>\n",
              "      <td>1</td>\n",
              "      <td>城市A</td>\n",
              "      <td>38.5</td>\n",
              "    </tr>\n",
              "    <tr>\n",
              "      <th>27</th>\n",
              "      <td>2.5</td>\n",
              "      <td>0</td>\n",
              "      <td>城市A</td>\n",
              "      <td>24.9</td>\n",
              "    </tr>\n",
              "    <tr>\n",
              "      <th>28</th>\n",
              "      <td>5.0</td>\n",
              "      <td>0</td>\n",
              "      <td>城市A</td>\n",
              "      <td>29.7</td>\n",
              "    </tr>\n",
              "    <tr>\n",
              "      <th>29</th>\n",
              "      <td>3.6</td>\n",
              "      <td>1</td>\n",
              "      <td>城市A</td>\n",
              "      <td>41.6</td>\n",
              "    </tr>\n",
              "    <tr>\n",
              "      <th>30</th>\n",
              "      <td>7.4</td>\n",
              "      <td>2</td>\n",
              "      <td>城市C</td>\n",
              "      <td>76.9</td>\n",
              "    </tr>\n",
              "    <tr>\n",
              "      <th>31</th>\n",
              "      <td>10.0</td>\n",
              "      <td>2</td>\n",
              "      <td>城市B</td>\n",
              "      <td>60.2</td>\n",
              "    </tr>\n",
              "    <tr>\n",
              "      <th>32</th>\n",
              "      <td>1.7</td>\n",
              "      <td>2</td>\n",
              "      <td>城市C</td>\n",
              "      <td>56.3</td>\n",
              "    </tr>\n",
              "    <tr>\n",
              "      <th>33</th>\n",
              "      <td>8.0</td>\n",
              "      <td>1</td>\n",
              "      <td>城市C</td>\n",
              "      <td>45.2</td>\n",
              "    </tr>\n",
              "    <tr>\n",
              "      <th>34</th>\n",
              "      <td>6.1</td>\n",
              "      <td>2</td>\n",
              "      <td>城市A</td>\n",
              "      <td>65.9</td>\n",
              "    </tr>\n",
              "    <tr>\n",
              "      <th>35</th>\n",
              "      <td>4.3</td>\n",
              "      <td>1</td>\n",
              "      <td>城市A</td>\n",
              "      <td>36.7</td>\n",
              "    </tr>\n",
              "  </tbody>\n",
              "</table>\n",
              "</div>\n",
              "      <button class=\"colab-df-convert\" onclick=\"convertToInteractive('df-1fcc0991-17b6-43eb-8bb1-4c98f0c2c810')\"\n",
              "              title=\"Convert this dataframe to an interactive table.\"\n",
              "              style=\"display:none;\">\n",
              "        \n",
              "  <svg xmlns=\"http://www.w3.org/2000/svg\" height=\"24px\"viewBox=\"0 0 24 24\"\n",
              "       width=\"24px\">\n",
              "    <path d=\"M0 0h24v24H0V0z\" fill=\"none\"/>\n",
              "    <path d=\"M18.56 5.44l.94 2.06.94-2.06 2.06-.94-2.06-.94-.94-2.06-.94 2.06-2.06.94zm-11 1L8.5 8.5l.94-2.06 2.06-.94-2.06-.94L8.5 2.5l-.94 2.06-2.06.94zm10 10l.94 2.06.94-2.06 2.06-.94-2.06-.94-.94-2.06-.94 2.06-2.06.94z\"/><path d=\"M17.41 7.96l-1.37-1.37c-.4-.4-.92-.59-1.43-.59-.52 0-1.04.2-1.43.59L10.3 9.45l-7.72 7.72c-.78.78-.78 2.05 0 2.83L4 21.41c.39.39.9.59 1.41.59.51 0 1.02-.2 1.41-.59l7.78-7.78 2.81-2.81c.8-.78.8-2.07 0-2.86zM5.41 20L4 18.59l7.72-7.72 1.47 1.35L5.41 20z\"/>\n",
              "  </svg>\n",
              "      </button>\n",
              "      \n",
              "  <style>\n",
              "    .colab-df-container {\n",
              "      display:flex;\n",
              "      flex-wrap:wrap;\n",
              "      gap: 12px;\n",
              "    }\n",
              "\n",
              "    .colab-df-convert {\n",
              "      background-color: #E8F0FE;\n",
              "      border: none;\n",
              "      border-radius: 50%;\n",
              "      cursor: pointer;\n",
              "      display: none;\n",
              "      fill: #1967D2;\n",
              "      height: 32px;\n",
              "      padding: 0 0 0 0;\n",
              "      width: 32px;\n",
              "    }\n",
              "\n",
              "    .colab-df-convert:hover {\n",
              "      background-color: #E2EBFA;\n",
              "      box-shadow: 0px 1px 2px rgba(60, 64, 67, 0.3), 0px 1px 3px 1px rgba(60, 64, 67, 0.15);\n",
              "      fill: #174EA6;\n",
              "    }\n",
              "\n",
              "    [theme=dark] .colab-df-convert {\n",
              "      background-color: #3B4455;\n",
              "      fill: #D2E3FC;\n",
              "    }\n",
              "\n",
              "    [theme=dark] .colab-df-convert:hover {\n",
              "      background-color: #434B5C;\n",
              "      box-shadow: 0px 1px 3px 1px rgba(0, 0, 0, 0.15);\n",
              "      filter: drop-shadow(0px 1px 2px rgba(0, 0, 0, 0.3));\n",
              "      fill: #FFFFFF;\n",
              "    }\n",
              "  </style>\n",
              "\n",
              "      <script>\n",
              "        const buttonEl =\n",
              "          document.querySelector('#df-1fcc0991-17b6-43eb-8bb1-4c98f0c2c810 button.colab-df-convert');\n",
              "        buttonEl.style.display =\n",
              "          google.colab.kernel.accessAllowed ? 'block' : 'none';\n",
              "\n",
              "        async function convertToInteractive(key) {\n",
              "          const element = document.querySelector('#df-1fcc0991-17b6-43eb-8bb1-4c98f0c2c810');\n",
              "          const dataTable =\n",
              "            await google.colab.kernel.invokeFunction('convertToInteractive',\n",
              "                                                     [key], {});\n",
              "          if (!dataTable) return;\n",
              "\n",
              "          const docLinkHtml = 'Like what you see? Visit the ' +\n",
              "            '<a target=\"_blank\" href=https://colab.research.google.com/notebooks/data_table.ipynb>data table notebook</a>'\n",
              "            + ' to learn more about interactive tables.';\n",
              "          element.innerHTML = '';\n",
              "          dataTable['output_type'] = 'display_data';\n",
              "          await google.colab.output.renderOutput(dataTable, element);\n",
              "          const docLink = document.createElement('div');\n",
              "          docLink.innerHTML = docLinkHtml;\n",
              "          element.appendChild(docLink);\n",
              "        }\n",
              "      </script>\n",
              "    </div>\n",
              "  </div>\n",
              "  "
            ]
          },
          "metadata": {},
          "execution_count": 54
        }
      ],
      "source": [
        "data2[\"EducationLevel\"] = data2[\"EducationLevel\"].map({\"高中以下\":0, \"大學\":1, \"碩士以上\": 2})\n",
        "data2"
      ]
    },
    {
      "cell_type": "markdown",
      "metadata": {
        "id": "XxN5OWDN2y_O"
      },
      "source": [
        "## 沒有等級關係的特徵轉換 - One Hot Encoding\n",
        "\n",
        "值得一提的是，若分類項目總數固定，則可以選擇其中一項目省略，利用其他的項目推敲，以簡化運算"
      ]
    },
    {
      "cell_type": "code",
      "execution_count": null,
      "metadata": {
        "id": "2sWxD-ce2h0_",
        "colab": {
          "base_uri": "https://localhost:8080/"
        },
        "outputId": "f8fb7823-2d72-4901-e285-536d1b021945"
      },
      "outputs": [
        {
          "output_type": "execute_result",
          "data": {
            "text/plain": [
              "array([[ 1.00e+00,  0.00e+00,  0.00e+00],\n",
              "       [ 0.00e+00,  0.00e+00,  1.00e+00],\n",
              "       [ 1.00e+00,  0.00e+00,  0.00e+00],\n",
              "       [ 1.00e+00,  0.00e+00,  0.00e+00],\n",
              "       [ 0.00e+00,  1.00e+00,  0.00e+00],\n",
              "       [ 0.00e+00,  0.00e+00,  1.00e+00],\n",
              "       [ 0.00e+00,  0.00e+00,  1.00e+00],\n",
              "       [ 1.00e+00,  0.00e+00,  0.00e+00],\n",
              "       [ 1.00e+00,  0.00e+00,  0.00e+00],\n",
              "       [ 1.00e+00,  0.00e+00,  0.00e+00],\n",
              "       [ 1.00e+00,  0.00e+00,  0.00e+00],\n",
              "       [ 1.00e+00,  0.00e+00,  0.00e+00],\n",
              "       [ 0.00e+00,  0.00e+00,  1.00e+00],\n",
              "       [ 0.00e+00,  1.00e+00,  0.00e+00],\n",
              "       [ 0.00e+00,  0.00e+00,  1.00e+00],\n",
              "       [ 0.00e+00,  0.00e+00,  1.00e+00],\n",
              "       [ 1.00e+00,  0.00e+00,  0.00e+00],\n",
              "       [ 1.00e+00,  0.00e+00,  0.00e+00],\n",
              "       [ 1.00e+00,  0.00e+00,  0.00e+00],\n",
              "       [ 1.00e+00,  0.00e+00,  0.00e+00],\n",
              "       [ 1.00e+00,  0.00e+00,  0.00e+00],\n",
              "       [ 0.00e+00,  0.00e+00,  1.00e+00],\n",
              "       [ 0.00e+00,  1.00e+00,  0.00e+00],\n",
              "       [ 0.00e+00,  0.00e+00,  1.00e+00],\n",
              "       [ 0.00e+00,  0.00e+00,  1.00e+00],\n",
              "       [ 1.00e+00,  0.00e+00,  0.00e+00],\n",
              "       [ 1.00e+00,  0.00e+00,  0.00e+00],\n",
              "       [ 1.00e+00,  0.00e+00,  0.00e+00],\n",
              "       [ 1.00e+00,  0.00e+00,  0.00e+00],\n",
              "       [ 1.00e+00,  0.00e+00,  0.00e+00],\n",
              "       [ 0.00e+00,  0.00e+00,  1.00e+00],\n",
              "       [ 0.00e+00,  1.00e+00,  0.00e+00],\n",
              "       [ 0.00e+00,  0.00e+00,  1.00e+00],\n",
              "       [ 0.00e+00,  0.00e+00,  1.00e+00],\n",
              "       [ 1.00e+00,  0.00e+00,  0.00e+00],\n",
              "       [ 1.00e+00,  0.00e+00,  0.00e+00]])"
            ]
          },
          "metadata": {},
          "execution_count": 55
        }
      ],
      "source": [
        "onehot_encoder = OneHotEncoder()\n",
        "onehot_encoder.fit(data2[[\"City\"]]) #需要傳入二維矩陣\n",
        "\n",
        "city_encoded = onehot_encoder.transform(data2[[\"City\"]]).toarray()\n",
        "city_encoded"
      ]
    },
    {
      "cell_type": "markdown",
      "metadata": {
        "id": "4DQx7TtU-xDl"
      },
      "source": [
        "將City替換成三個類別，但第三個類別可以推敲，所以可以忽略、捨棄"
      ]
    },
    {
      "cell_type": "code",
      "execution_count": null,
      "metadata": {
        "id": "PmyS8k1I5a67",
        "colab": {
          "base_uri": "https://localhost:8080/",
          "height": 1000
        },
        "outputId": "8304c982-7ef9-4fdb-abc9-0372e28bbb7c"
      },
      "outputs": [
        {
          "output_type": "execute_result",
          "data": {
            "text/plain": [
              "    YearsExperience  EducationLevel  Salary  CityA  CityB\n",
              "0               3.0               1    45.9    1.0    0.0\n",
              "1               7.8               2    80.5    0.0    0.0\n",
              "2               2.3               0    25.2    1.0    0.0\n",
              "3               5.1               0    30.4    1.0    0.0\n",
              "4              10.0               2    65.7    0.0    1.0\n",
              "5               1.2               2    60.8    0.0    0.0\n",
              "6               8.6               1    50.1    0.0    0.0\n",
              "7               6.9               2    70.3    1.0    0.0\n",
              "8               4.2               1    40.7    1.0    0.0\n",
              "9               2.4               0    28.1    1.0    0.0\n",
              "10              5.3               0    32.0    1.0    0.0\n",
              "11              3.9               1    48.3    1.0    0.0\n",
              "12              7.2               2    84.2    0.0    0.0\n",
              "13             10.0               2    70.9    0.0    1.0\n",
              "14              1.5               2    62.4    0.0    0.0\n",
              "15              8.4               1    55.6    0.0    0.0\n",
              "16              6.5               2    72.7    1.0    0.0\n",
              "17              4.8               1    42.9    1.0    0.0\n",
              "18              2.1               0    26.5    1.0    0.0\n",
              "19              5.2               0    31.6    1.0    0.0\n",
              "20              3.5               1    43.8    1.0    0.0\n",
              "21              7.6               2    78.3    0.0    0.0\n",
              "22             10.0               2    63.6    0.0    1.0\n",
              "23              1.8               2    58.0    0.0    0.0\n",
              "24              8.2               1    48.3    0.0    0.0\n",
              "25              6.3               2    68.4    1.0    0.0\n",
              "26              4.6               1    38.5    1.0    0.0\n",
              "27              2.5               0    24.9    1.0    0.0\n",
              "28              5.0               0    29.7    1.0    0.0\n",
              "29              3.6               1    41.6    1.0    0.0\n",
              "30              7.4               2    76.9    0.0    0.0\n",
              "31             10.0               2    60.2    0.0    1.0\n",
              "32              1.7               2    56.3    0.0    0.0\n",
              "33              8.0               1    45.2    0.0    0.0\n",
              "34              6.1               2    65.9    1.0    0.0\n",
              "35              4.3               1    36.7    1.0    0.0"
            ],
            "text/html": [
              "\n",
              "  <div id=\"df-38fb224d-933d-4367-900d-3e795bcc3491\">\n",
              "    <div class=\"colab-df-container\">\n",
              "      <div>\n",
              "<style scoped>\n",
              "    .dataframe tbody tr th:only-of-type {\n",
              "        vertical-align: middle;\n",
              "    }\n",
              "\n",
              "    .dataframe tbody tr th {\n",
              "        vertical-align: top;\n",
              "    }\n",
              "\n",
              "    .dataframe thead th {\n",
              "        text-align: right;\n",
              "    }\n",
              "</style>\n",
              "<table border=\"1\" class=\"dataframe\">\n",
              "  <thead>\n",
              "    <tr style=\"text-align: right;\">\n",
              "      <th></th>\n",
              "      <th>YearsExperience</th>\n",
              "      <th>EducationLevel</th>\n",
              "      <th>Salary</th>\n",
              "      <th>CityA</th>\n",
              "      <th>CityB</th>\n",
              "    </tr>\n",
              "  </thead>\n",
              "  <tbody>\n",
              "    <tr>\n",
              "      <th>0</th>\n",
              "      <td>3.0</td>\n",
              "      <td>1</td>\n",
              "      <td>45.9</td>\n",
              "      <td>1.0</td>\n",
              "      <td>0.0</td>\n",
              "    </tr>\n",
              "    <tr>\n",
              "      <th>1</th>\n",
              "      <td>7.8</td>\n",
              "      <td>2</td>\n",
              "      <td>80.5</td>\n",
              "      <td>0.0</td>\n",
              "      <td>0.0</td>\n",
              "    </tr>\n",
              "    <tr>\n",
              "      <th>2</th>\n",
              "      <td>2.3</td>\n",
              "      <td>0</td>\n",
              "      <td>25.2</td>\n",
              "      <td>1.0</td>\n",
              "      <td>0.0</td>\n",
              "    </tr>\n",
              "    <tr>\n",
              "      <th>3</th>\n",
              "      <td>5.1</td>\n",
              "      <td>0</td>\n",
              "      <td>30.4</td>\n",
              "      <td>1.0</td>\n",
              "      <td>0.0</td>\n",
              "    </tr>\n",
              "    <tr>\n",
              "      <th>4</th>\n",
              "      <td>10.0</td>\n",
              "      <td>2</td>\n",
              "      <td>65.7</td>\n",
              "      <td>0.0</td>\n",
              "      <td>1.0</td>\n",
              "    </tr>\n",
              "    <tr>\n",
              "      <th>5</th>\n",
              "      <td>1.2</td>\n",
              "      <td>2</td>\n",
              "      <td>60.8</td>\n",
              "      <td>0.0</td>\n",
              "      <td>0.0</td>\n",
              "    </tr>\n",
              "    <tr>\n",
              "      <th>6</th>\n",
              "      <td>8.6</td>\n",
              "      <td>1</td>\n",
              "      <td>50.1</td>\n",
              "      <td>0.0</td>\n",
              "      <td>0.0</td>\n",
              "    </tr>\n",
              "    <tr>\n",
              "      <th>7</th>\n",
              "      <td>6.9</td>\n",
              "      <td>2</td>\n",
              "      <td>70.3</td>\n",
              "      <td>1.0</td>\n",
              "      <td>0.0</td>\n",
              "    </tr>\n",
              "    <tr>\n",
              "      <th>8</th>\n",
              "      <td>4.2</td>\n",
              "      <td>1</td>\n",
              "      <td>40.7</td>\n",
              "      <td>1.0</td>\n",
              "      <td>0.0</td>\n",
              "    </tr>\n",
              "    <tr>\n",
              "      <th>9</th>\n",
              "      <td>2.4</td>\n",
              "      <td>0</td>\n",
              "      <td>28.1</td>\n",
              "      <td>1.0</td>\n",
              "      <td>0.0</td>\n",
              "    </tr>\n",
              "    <tr>\n",
              "      <th>10</th>\n",
              "      <td>5.3</td>\n",
              "      <td>0</td>\n",
              "      <td>32.0</td>\n",
              "      <td>1.0</td>\n",
              "      <td>0.0</td>\n",
              "    </tr>\n",
              "    <tr>\n",
              "      <th>11</th>\n",
              "      <td>3.9</td>\n",
              "      <td>1</td>\n",
              "      <td>48.3</td>\n",
              "      <td>1.0</td>\n",
              "      <td>0.0</td>\n",
              "    </tr>\n",
              "    <tr>\n",
              "      <th>12</th>\n",
              "      <td>7.2</td>\n",
              "      <td>2</td>\n",
              "      <td>84.2</td>\n",
              "      <td>0.0</td>\n",
              "      <td>0.0</td>\n",
              "    </tr>\n",
              "    <tr>\n",
              "      <th>13</th>\n",
              "      <td>10.0</td>\n",
              "      <td>2</td>\n",
              "      <td>70.9</td>\n",
              "      <td>0.0</td>\n",
              "      <td>1.0</td>\n",
              "    </tr>\n",
              "    <tr>\n",
              "      <th>14</th>\n",
              "      <td>1.5</td>\n",
              "      <td>2</td>\n",
              "      <td>62.4</td>\n",
              "      <td>0.0</td>\n",
              "      <td>0.0</td>\n",
              "    </tr>\n",
              "    <tr>\n",
              "      <th>15</th>\n",
              "      <td>8.4</td>\n",
              "      <td>1</td>\n",
              "      <td>55.6</td>\n",
              "      <td>0.0</td>\n",
              "      <td>0.0</td>\n",
              "    </tr>\n",
              "    <tr>\n",
              "      <th>16</th>\n",
              "      <td>6.5</td>\n",
              "      <td>2</td>\n",
              "      <td>72.7</td>\n",
              "      <td>1.0</td>\n",
              "      <td>0.0</td>\n",
              "    </tr>\n",
              "    <tr>\n",
              "      <th>17</th>\n",
              "      <td>4.8</td>\n",
              "      <td>1</td>\n",
              "      <td>42.9</td>\n",
              "      <td>1.0</td>\n",
              "      <td>0.0</td>\n",
              "    </tr>\n",
              "    <tr>\n",
              "      <th>18</th>\n",
              "      <td>2.1</td>\n",
              "      <td>0</td>\n",
              "      <td>26.5</td>\n",
              "      <td>1.0</td>\n",
              "      <td>0.0</td>\n",
              "    </tr>\n",
              "    <tr>\n",
              "      <th>19</th>\n",
              "      <td>5.2</td>\n",
              "      <td>0</td>\n",
              "      <td>31.6</td>\n",
              "      <td>1.0</td>\n",
              "      <td>0.0</td>\n",
              "    </tr>\n",
              "    <tr>\n",
              "      <th>20</th>\n",
              "      <td>3.5</td>\n",
              "      <td>1</td>\n",
              "      <td>43.8</td>\n",
              "      <td>1.0</td>\n",
              "      <td>0.0</td>\n",
              "    </tr>\n",
              "    <tr>\n",
              "      <th>21</th>\n",
              "      <td>7.6</td>\n",
              "      <td>2</td>\n",
              "      <td>78.3</td>\n",
              "      <td>0.0</td>\n",
              "      <td>0.0</td>\n",
              "    </tr>\n",
              "    <tr>\n",
              "      <th>22</th>\n",
              "      <td>10.0</td>\n",
              "      <td>2</td>\n",
              "      <td>63.6</td>\n",
              "      <td>0.0</td>\n",
              "      <td>1.0</td>\n",
              "    </tr>\n",
              "    <tr>\n",
              "      <th>23</th>\n",
              "      <td>1.8</td>\n",
              "      <td>2</td>\n",
              "      <td>58.0</td>\n",
              "      <td>0.0</td>\n",
              "      <td>0.0</td>\n",
              "    </tr>\n",
              "    <tr>\n",
              "      <th>24</th>\n",
              "      <td>8.2</td>\n",
              "      <td>1</td>\n",
              "      <td>48.3</td>\n",
              "      <td>0.0</td>\n",
              "      <td>0.0</td>\n",
              "    </tr>\n",
              "    <tr>\n",
              "      <th>25</th>\n",
              "      <td>6.3</td>\n",
              "      <td>2</td>\n",
              "      <td>68.4</td>\n",
              "      <td>1.0</td>\n",
              "      <td>0.0</td>\n",
              "    </tr>\n",
              "    <tr>\n",
              "      <th>26</th>\n",
              "      <td>4.6</td>\n",
              "      <td>1</td>\n",
              "      <td>38.5</td>\n",
              "      <td>1.0</td>\n",
              "      <td>0.0</td>\n",
              "    </tr>\n",
              "    <tr>\n",
              "      <th>27</th>\n",
              "      <td>2.5</td>\n",
              "      <td>0</td>\n",
              "      <td>24.9</td>\n",
              "      <td>1.0</td>\n",
              "      <td>0.0</td>\n",
              "    </tr>\n",
              "    <tr>\n",
              "      <th>28</th>\n",
              "      <td>5.0</td>\n",
              "      <td>0</td>\n",
              "      <td>29.7</td>\n",
              "      <td>1.0</td>\n",
              "      <td>0.0</td>\n",
              "    </tr>\n",
              "    <tr>\n",
              "      <th>29</th>\n",
              "      <td>3.6</td>\n",
              "      <td>1</td>\n",
              "      <td>41.6</td>\n",
              "      <td>1.0</td>\n",
              "      <td>0.0</td>\n",
              "    </tr>\n",
              "    <tr>\n",
              "      <th>30</th>\n",
              "      <td>7.4</td>\n",
              "      <td>2</td>\n",
              "      <td>76.9</td>\n",
              "      <td>0.0</td>\n",
              "      <td>0.0</td>\n",
              "    </tr>\n",
              "    <tr>\n",
              "      <th>31</th>\n",
              "      <td>10.0</td>\n",
              "      <td>2</td>\n",
              "      <td>60.2</td>\n",
              "      <td>0.0</td>\n",
              "      <td>1.0</td>\n",
              "    </tr>\n",
              "    <tr>\n",
              "      <th>32</th>\n",
              "      <td>1.7</td>\n",
              "      <td>2</td>\n",
              "      <td>56.3</td>\n",
              "      <td>0.0</td>\n",
              "      <td>0.0</td>\n",
              "    </tr>\n",
              "    <tr>\n",
              "      <th>33</th>\n",
              "      <td>8.0</td>\n",
              "      <td>1</td>\n",
              "      <td>45.2</td>\n",
              "      <td>0.0</td>\n",
              "      <td>0.0</td>\n",
              "    </tr>\n",
              "    <tr>\n",
              "      <th>34</th>\n",
              "      <td>6.1</td>\n",
              "      <td>2</td>\n",
              "      <td>65.9</td>\n",
              "      <td>1.0</td>\n",
              "      <td>0.0</td>\n",
              "    </tr>\n",
              "    <tr>\n",
              "      <th>35</th>\n",
              "      <td>4.3</td>\n",
              "      <td>1</td>\n",
              "      <td>36.7</td>\n",
              "      <td>1.0</td>\n",
              "      <td>0.0</td>\n",
              "    </tr>\n",
              "  </tbody>\n",
              "</table>\n",
              "</div>\n",
              "      <button class=\"colab-df-convert\" onclick=\"convertToInteractive('df-38fb224d-933d-4367-900d-3e795bcc3491')\"\n",
              "              title=\"Convert this dataframe to an interactive table.\"\n",
              "              style=\"display:none;\">\n",
              "        \n",
              "  <svg xmlns=\"http://www.w3.org/2000/svg\" height=\"24px\"viewBox=\"0 0 24 24\"\n",
              "       width=\"24px\">\n",
              "    <path d=\"M0 0h24v24H0V0z\" fill=\"none\"/>\n",
              "    <path d=\"M18.56 5.44l.94 2.06.94-2.06 2.06-.94-2.06-.94-.94-2.06-.94 2.06-2.06.94zm-11 1L8.5 8.5l.94-2.06 2.06-.94-2.06-.94L8.5 2.5l-.94 2.06-2.06.94zm10 10l.94 2.06.94-2.06 2.06-.94-2.06-.94-.94-2.06-.94 2.06-2.06.94z\"/><path d=\"M17.41 7.96l-1.37-1.37c-.4-.4-.92-.59-1.43-.59-.52 0-1.04.2-1.43.59L10.3 9.45l-7.72 7.72c-.78.78-.78 2.05 0 2.83L4 21.41c.39.39.9.59 1.41.59.51 0 1.02-.2 1.41-.59l7.78-7.78 2.81-2.81c.8-.78.8-2.07 0-2.86zM5.41 20L4 18.59l7.72-7.72 1.47 1.35L5.41 20z\"/>\n",
              "  </svg>\n",
              "      </button>\n",
              "      \n",
              "  <style>\n",
              "    .colab-df-container {\n",
              "      display:flex;\n",
              "      flex-wrap:wrap;\n",
              "      gap: 12px;\n",
              "    }\n",
              "\n",
              "    .colab-df-convert {\n",
              "      background-color: #E8F0FE;\n",
              "      border: none;\n",
              "      border-radius: 50%;\n",
              "      cursor: pointer;\n",
              "      display: none;\n",
              "      fill: #1967D2;\n",
              "      height: 32px;\n",
              "      padding: 0 0 0 0;\n",
              "      width: 32px;\n",
              "    }\n",
              "\n",
              "    .colab-df-convert:hover {\n",
              "      background-color: #E2EBFA;\n",
              "      box-shadow: 0px 1px 2px rgba(60, 64, 67, 0.3), 0px 1px 3px 1px rgba(60, 64, 67, 0.15);\n",
              "      fill: #174EA6;\n",
              "    }\n",
              "\n",
              "    [theme=dark] .colab-df-convert {\n",
              "      background-color: #3B4455;\n",
              "      fill: #D2E3FC;\n",
              "    }\n",
              "\n",
              "    [theme=dark] .colab-df-convert:hover {\n",
              "      background-color: #434B5C;\n",
              "      box-shadow: 0px 1px 3px 1px rgba(0, 0, 0, 0.15);\n",
              "      filter: drop-shadow(0px 1px 2px rgba(0, 0, 0, 0.3));\n",
              "      fill: #FFFFFF;\n",
              "    }\n",
              "  </style>\n",
              "\n",
              "      <script>\n",
              "        const buttonEl =\n",
              "          document.querySelector('#df-38fb224d-933d-4367-900d-3e795bcc3491 button.colab-df-convert');\n",
              "        buttonEl.style.display =\n",
              "          google.colab.kernel.accessAllowed ? 'block' : 'none';\n",
              "\n",
              "        async function convertToInteractive(key) {\n",
              "          const element = document.querySelector('#df-38fb224d-933d-4367-900d-3e795bcc3491');\n",
              "          const dataTable =\n",
              "            await google.colab.kernel.invokeFunction('convertToInteractive',\n",
              "                                                     [key], {});\n",
              "          if (!dataTable) return;\n",
              "\n",
              "          const docLinkHtml = 'Like what you see? Visit the ' +\n",
              "            '<a target=\"_blank\" href=https://colab.research.google.com/notebooks/data_table.ipynb>data table notebook</a>'\n",
              "            + ' to learn more about interactive tables.';\n",
              "          element.innerHTML = '';\n",
              "          dataTable['output_type'] = 'display_data';\n",
              "          await google.colab.output.renderOutput(dataTable, element);\n",
              "          const docLink = document.createElement('div');\n",
              "          docLink.innerHTML = docLinkHtml;\n",
              "          element.appendChild(docLink);\n",
              "        }\n",
              "      </script>\n",
              "    </div>\n",
              "  </div>\n",
              "  "
            ]
          },
          "metadata": {},
          "execution_count": 56
        }
      ],
      "source": [
        "data2[[\"CityA\",\"CityB\",\"CityC\"]] = city_encoded\n",
        "\n",
        "data2 = data2.drop([\"City\", \"CityC\"], axis=1)\n",
        "data2"
      ]
    },
    {
      "cell_type": "markdown",
      "metadata": {
        "id": "eo2_FGVZ_dGq"
      },
      "source": [
        "## 資料集分割\n",
        "\n",
        "將資料分成訓練集和測試集兩類，來訓練和檢驗預測的效果\n",
        "這裡取8成作為訓練資料，2成做為測試資料"
      ]
    },
    {
      "cell_type": "code",
      "execution_count": null,
      "metadata": {
        "id": "rRKeBgK36e83"
      },
      "outputs": [],
      "source": [
        "# from sklearn.model_selection import train_test_split\n",
        "x = data2[[\"YearsExperience\", \"EducationLevel\", \"CityA\", \"CityB\"]]\n",
        "y = data2[\"Salary\"]\n",
        "\n",
        "x_train, x_test, y_train, y_test = train_test_split(x, y, test_size=0.2) #取隨機2成作為測試集, 可額外傳入random_state=2來決定隨機種子\n",
        "x_train = x_train.to_numpy()\n",
        "x_test = x_test.to_numpy()\n",
        "# y_train = y_train.to_numpy()\n",
        "# y_test = y_test.to_numpy()"
      ]
    },
    {
      "cell_type": "markdown",
      "metadata": {
        "id": "rG4NHJqscccG"
      },
      "source": [
        "## 特徵縮放\n",
        "\n",
        "透過將各個特徵標準化，讓所有特徵金亮介在相同區間，可以讓梯度下降的效率提高\n",
        "\n",
        "標準化 = (值 - 平均)/標準差"
      ]
    },
    {
      "cell_type": "code",
      "execution_count": null,
      "metadata": {
        "id": "1FryT1TMc-GR"
      },
      "outputs": [],
      "source": [
        "# from sklearn.preprocessing import StanderScaler\n",
        "\n",
        "scaler = StandardScaler()\n",
        "scaler.fit(x_train) #計算測試集的平均和標準差，用以標準化\n",
        "x_train = scaler.transform(x_train)\n",
        "# 測試集的標準化也採用與訓練集相同的值操作\n",
        "x_test = scaler.transform(x_test)"
      ]
    },
    {
      "cell_type": "markdown",
      "metadata": {
        "id": "NMj1c7H3-mPK"
      },
      "source": [
        "## 定義預測函數\n",
        "\n",
        "讓各個特徵乘以各自權重後，加上一數字b，作為其預測函數\n",
        "```\n",
        "y_pred = (w*x_train).sum(axis=1) + b\n",
        "```"
      ]
    },
    {
      "cell_type": "markdown",
      "metadata": {
        "id": "FasitM_r-BW_"
      },
      "source": [
        "## 定義成本函數"
      ]
    },
    {
      "cell_type": "code",
      "execution_count": null,
      "metadata": {
        "id": "FOUiHOeHArh8"
      },
      "outputs": [],
      "source": [
        "def compute_cost(x, y, w, b):\n",
        "  y_pred = (x*w).sum(axis=1) + b\n",
        "  return ((y - y_pred)**2).mean()"
      ]
    },
    {
      "cell_type": "markdown",
      "metadata": {
        "id": "qZ-3Ly-yBAGt"
      },
      "source": [
        "## 定義梯度函數\n",
        "\n",
        "利用簡單線性迴歸時使用的「優化模型(Optimizer)-梯度下降法」來預測資料\n",
        "\n",
        "同樣利用偏微分，分別以w1、w2、w3、w4、b對\n",
        "```\n",
        "(y_pred - w1*x1 + w2*x2 + w3*x3 + w4*x4 + b)^2\n",
        "```\n",
        "或者\n",
        "```\n",
        "(y_pred - y)^2\n",
        "```\n",
        "偏微分，可得\n",
        "```\n",
        "w1_gradient = 2*(x1*(y_pred - y))\n",
        "w2_gradient = 2*(x2*(y_pred - y))\n",
        "w3_gradient = 2*(x3*(y_pred - y))\n",
        "w4_gradient = 2*(x4*(y_pred - y))\n",
        "b_gradient = 2*(y_pred - y)\n",
        "```\n",
        "同樣，係數2可以與後續的學習率合併，因此簡化成：\n",
        "```\n",
        "w1_gradient = (x1*(y_pred - y))\n",
        "w2_gradient = (x2*(y_pred - y))\n",
        "w3_gradient = (x3*(y_pred - y))\n",
        "w4_gradient = (x4*(y_pred - y))\n",
        "b_gradient = (y_pred - y)\n",
        "```\n",
        "利用for迴圈可簡化成：\n",
        "```\n",
        "for i in range(x.shape[1]):\n",
        "    w_gradient = (x[:,i]*(y_pred - y)).mean()\n",
        "```\n"
      ]
    },
    {
      "cell_type": "code",
      "execution_count": null,
      "metadata": {
        "id": "3NN2m5myBw4G"
      },
      "outputs": [],
      "source": [
        "def compute_gradient(x, y, w, b):\n",
        "  y_pred = (x*w).sum(axis=1) + b\n",
        "  b_gradient = (y_pred - y).mean()\n",
        "  w_gradient = np.zeros(x.shape[1])\n",
        "\n",
        "  for i in range(x.shape[1]):\n",
        "    w_gradient = (x[:,i]*(y_pred - y)).mean()\n",
        "\n",
        "  return w_gradient, b_gradient"
      ]
    },
    {
      "cell_type": "markdown",
      "metadata": {
        "id": "hfZ9MeLpEy1P"
      },
      "source": [
        "## 定義梯度下降的迭代函數"
      ]
    },
    {
      "cell_type": "code",
      "execution_count": null,
      "metadata": {
        "id": "L7akTNZDLrn7"
      },
      "outputs": [],
      "source": [
        "np.set_printoptions(formatter={'float':'{: .2e}'.format})\n",
        "def gradient_descent(x, y, w_init, b_init, learning_rate, cost_function, gradient_function, run_iter=10000, p_iter=1000):\n",
        "  c_hist = []\n",
        "  w_hist = []\n",
        "  b_hist = []\n",
        "  \n",
        "  w = w_init\n",
        "  b = b_init\n",
        "  \n",
        "  for i in range(run_iter):\n",
        "    w_gradient, b_gradient = gradient_function(x, y, w, b)\n",
        "    \n",
        "    w = w - w_gradient*learning_rate\n",
        "    b = b - b_gradient*learning_rate\n",
        "    cost = cost_function(x, y, w, b)\n",
        "\n",
        "    w_hist.append(w)\n",
        "    b_hist.append(b)\n",
        "    c_hist.append(cost)\n",
        "\n",
        "    if i%p_iter==0:\n",
        "      print(f\"iteration {i:5}: Cost: {cost: .4e}, w: {w}, b: {b: .2e}, w_gradient: {w_gradient: .2e}, b_gradient: {b_gradient: .2e}\")\n",
        "\n",
        "  return w, b, w_hist, b_hist, c_hist"
      ]
    },
    {
      "cell_type": "markdown",
      "source": [
        "## 尋找最佳參數組"
      ],
      "metadata": {
        "id": "t_lh_okUjvPn"
      }
    },
    {
      "cell_type": "code",
      "execution_count": null,
      "metadata": {
        "colab": {
          "base_uri": "https://localhost:8080/"
        },
        "id": "eFDwZIW7KgW0",
        "outputId": "cdb41587-b20e-4b06-8c6b-ddb2ae35f398"
      },
      "outputs": [
        {
          "output_type": "stream",
          "name": "stdout",
          "text": [
            "iteration     0: Cost:  3.1427e+03, w: [ 1.00e+00  2.00e+00  2.00e+00  4.00e+00], b:  2.70e-01, w_gradient: -7.67e-02, b_gradient: -5.40e+01\n",
            "iteration  1000: Cost:  2.5215e+02, w: [ 1.05e+00  2.05e+00  2.05e+00  4.05e+00], b:  5.37e+01, w_gradient: -3.19e-05, b_gradient: -3.59e-01\n",
            "iteration  2000: Cost:  2.5202e+02, w: [ 1.05e+00  2.05e+00  2.05e+00  4.05e+00], b:  5.40e+01, w_gradient: -1.33e-08, b_gradient: -2.39e-03\n",
            "iteration  3000: Cost:  2.5202e+02, w: [ 1.05e+00  2.05e+00  2.05e+00  4.05e+00], b:  5.40e+01, w_gradient: -5.53e-12, b_gradient: -1.59e-05\n",
            "iteration  4000: Cost:  2.5202e+02, w: [ 1.05e+00  2.05e+00  2.05e+00  4.05e+00], b:  5.40e+01, w_gradient: -2.05e-14, b_gradient: -1.06e-07\n",
            "iteration  5000: Cost:  2.5202e+02, w: [ 1.05e+00  2.05e+00  2.05e+00  4.05e+00], b:  5.40e+01, w_gradient: -2.05e-14, b_gradient: -7.05e-10\n",
            "iteration  6000: Cost:  2.5202e+02, w: [ 1.05e+00  2.05e+00  2.05e+00  4.05e+00], b:  5.40e+01, w_gradient: -2.03e-14, b_gradient: -4.71e-12\n",
            "iteration  7000: Cost:  2.5202e+02, w: [ 1.05e+00  2.05e+00  2.05e+00  4.05e+00], b:  5.40e+01, w_gradient: -1.80e-14, b_gradient: -7.04e-13\n",
            "iteration  8000: Cost:  2.5202e+02, w: [ 1.05e+00  2.05e+00  2.05e+00  4.05e+00], b:  5.40e+01, w_gradient: -1.80e-14, b_gradient: -7.04e-13\n",
            "iteration  9000: Cost:  2.5202e+02, w: [ 1.05e+00  2.05e+00  2.05e+00  4.05e+00], b:  5.40e+01, w_gradient: -1.80e-14, b_gradient: -7.04e-13\n"
          ]
        }
      ],
      "source": [
        "w_init = np.array([1,2,2,4])\n",
        "w_final, b_final, w_list, b_list, c_list = gradient_descent(x_train, y_train, w_init, b_init=0, learning_rate=0.005, cost_function = compute_cost, gradient_function = compute_gradient, run_iter=10000, p_iter=1000)"
      ]
    },
    {
      "cell_type": "markdown",
      "source": [
        "## 結果列印"
      ],
      "metadata": {
        "id": "rvyVxZBbj3J_"
      }
    },
    {
      "cell_type": "code",
      "execution_count": null,
      "metadata": {
        "colab": {
          "base_uri": "https://localhost:8080/",
          "height": 300
        },
        "id": "nLrJrrMNVOoB",
        "outputId": "e186c446-a951-4309-8e27-38f7d6c35a2e"
      },
      "outputs": [
        {
          "output_type": "execute_result",
          "data": {
            "text/plain": [
              "       y_pred  y_test\n",
              "23  50.280205    58.0\n",
              "3   50.324255    30.4\n",
              "28  50.284650    29.7\n",
              "5   50.042580    60.8\n",
              "15  50.191957    55.6\n",
              "8   52.669943    40.7\n",
              "27  49.294545    24.9\n",
              "24  50.112749    48.3"
            ],
            "text/html": [
              "\n",
              "  <div id=\"df-e84cdb33-c3c9-4922-9efa-783690b2e2e7\">\n",
              "    <div class=\"colab-df-container\">\n",
              "      <div>\n",
              "<style scoped>\n",
              "    .dataframe tbody tr th:only-of-type {\n",
              "        vertical-align: middle;\n",
              "    }\n",
              "\n",
              "    .dataframe tbody tr th {\n",
              "        vertical-align: top;\n",
              "    }\n",
              "\n",
              "    .dataframe thead th {\n",
              "        text-align: right;\n",
              "    }\n",
              "</style>\n",
              "<table border=\"1\" class=\"dataframe\">\n",
              "  <thead>\n",
              "    <tr style=\"text-align: right;\">\n",
              "      <th></th>\n",
              "      <th>y_pred</th>\n",
              "      <th>y_test</th>\n",
              "    </tr>\n",
              "  </thead>\n",
              "  <tbody>\n",
              "    <tr>\n",
              "      <th>23</th>\n",
              "      <td>50.280205</td>\n",
              "      <td>58.0</td>\n",
              "    </tr>\n",
              "    <tr>\n",
              "      <th>3</th>\n",
              "      <td>50.324255</td>\n",
              "      <td>30.4</td>\n",
              "    </tr>\n",
              "    <tr>\n",
              "      <th>28</th>\n",
              "      <td>50.284650</td>\n",
              "      <td>29.7</td>\n",
              "    </tr>\n",
              "    <tr>\n",
              "      <th>5</th>\n",
              "      <td>50.042580</td>\n",
              "      <td>60.8</td>\n",
              "    </tr>\n",
              "    <tr>\n",
              "      <th>15</th>\n",
              "      <td>50.191957</td>\n",
              "      <td>55.6</td>\n",
              "    </tr>\n",
              "    <tr>\n",
              "      <th>8</th>\n",
              "      <td>52.669943</td>\n",
              "      <td>40.7</td>\n",
              "    </tr>\n",
              "    <tr>\n",
              "      <th>27</th>\n",
              "      <td>49.294545</td>\n",
              "      <td>24.9</td>\n",
              "    </tr>\n",
              "    <tr>\n",
              "      <th>24</th>\n",
              "      <td>50.112749</td>\n",
              "      <td>48.3</td>\n",
              "    </tr>\n",
              "  </tbody>\n",
              "</table>\n",
              "</div>\n",
              "      <button class=\"colab-df-convert\" onclick=\"convertToInteractive('df-e84cdb33-c3c9-4922-9efa-783690b2e2e7')\"\n",
              "              title=\"Convert this dataframe to an interactive table.\"\n",
              "              style=\"display:none;\">\n",
              "        \n",
              "  <svg xmlns=\"http://www.w3.org/2000/svg\" height=\"24px\"viewBox=\"0 0 24 24\"\n",
              "       width=\"24px\">\n",
              "    <path d=\"M0 0h24v24H0V0z\" fill=\"none\"/>\n",
              "    <path d=\"M18.56 5.44l.94 2.06.94-2.06 2.06-.94-2.06-.94-.94-2.06-.94 2.06-2.06.94zm-11 1L8.5 8.5l.94-2.06 2.06-.94-2.06-.94L8.5 2.5l-.94 2.06-2.06.94zm10 10l.94 2.06.94-2.06 2.06-.94-2.06-.94-.94-2.06-.94 2.06-2.06.94z\"/><path d=\"M17.41 7.96l-1.37-1.37c-.4-.4-.92-.59-1.43-.59-.52 0-1.04.2-1.43.59L10.3 9.45l-7.72 7.72c-.78.78-.78 2.05 0 2.83L4 21.41c.39.39.9.59 1.41.59.51 0 1.02-.2 1.41-.59l7.78-7.78 2.81-2.81c.8-.78.8-2.07 0-2.86zM5.41 20L4 18.59l7.72-7.72 1.47 1.35L5.41 20z\"/>\n",
              "  </svg>\n",
              "      </button>\n",
              "      \n",
              "  <style>\n",
              "    .colab-df-container {\n",
              "      display:flex;\n",
              "      flex-wrap:wrap;\n",
              "      gap: 12px;\n",
              "    }\n",
              "\n",
              "    .colab-df-convert {\n",
              "      background-color: #E8F0FE;\n",
              "      border: none;\n",
              "      border-radius: 50%;\n",
              "      cursor: pointer;\n",
              "      display: none;\n",
              "      fill: #1967D2;\n",
              "      height: 32px;\n",
              "      padding: 0 0 0 0;\n",
              "      width: 32px;\n",
              "    }\n",
              "\n",
              "    .colab-df-convert:hover {\n",
              "      background-color: #E2EBFA;\n",
              "      box-shadow: 0px 1px 2px rgba(60, 64, 67, 0.3), 0px 1px 3px 1px rgba(60, 64, 67, 0.15);\n",
              "      fill: #174EA6;\n",
              "    }\n",
              "\n",
              "    [theme=dark] .colab-df-convert {\n",
              "      background-color: #3B4455;\n",
              "      fill: #D2E3FC;\n",
              "    }\n",
              "\n",
              "    [theme=dark] .colab-df-convert:hover {\n",
              "      background-color: #434B5C;\n",
              "      box-shadow: 0px 1px 3px 1px rgba(0, 0, 0, 0.15);\n",
              "      filter: drop-shadow(0px 1px 2px rgba(0, 0, 0, 0.3));\n",
              "      fill: #FFFFFF;\n",
              "    }\n",
              "  </style>\n",
              "\n",
              "      <script>\n",
              "        const buttonEl =\n",
              "          document.querySelector('#df-e84cdb33-c3c9-4922-9efa-783690b2e2e7 button.colab-df-convert');\n",
              "        buttonEl.style.display =\n",
              "          google.colab.kernel.accessAllowed ? 'block' : 'none';\n",
              "\n",
              "        async function convertToInteractive(key) {\n",
              "          const element = document.querySelector('#df-e84cdb33-c3c9-4922-9efa-783690b2e2e7');\n",
              "          const dataTable =\n",
              "            await google.colab.kernel.invokeFunction('convertToInteractive',\n",
              "                                                     [key], {});\n",
              "          if (!dataTable) return;\n",
              "\n",
              "          const docLinkHtml = 'Like what you see? Visit the ' +\n",
              "            '<a target=\"_blank\" href=https://colab.research.google.com/notebooks/data_table.ipynb>data table notebook</a>'\n",
              "            + ' to learn more about interactive tables.';\n",
              "          element.innerHTML = '';\n",
              "          dataTable['output_type'] = 'display_data';\n",
              "          await google.colab.output.renderOutput(dataTable, element);\n",
              "          const docLink = document.createElement('div');\n",
              "          docLink.innerHTML = docLinkHtml;\n",
              "          element.appendChild(docLink);\n",
              "        }\n",
              "      </script>\n",
              "    </div>\n",
              "  </div>\n",
              "  "
            ]
          },
          "metadata": {},
          "execution_count": 65
        }
      ],
      "source": [
        "y_pred = (w_final * x_test).sum(axis=1) + b_final\n",
        "pd.DataFrame({\n",
        "    \"y_pred\": y_pred,\n",
        "    \"y_test\": y_test,\n",
        "})"
      ]
    },
    {
      "cell_type": "markdown",
      "source": [
        "## 成效檢視"
      ],
      "metadata": {
        "id": "_7DVd9p1j9A6"
      }
    },
    {
      "cell_type": "code",
      "execution_count": null,
      "metadata": {
        "colab": {
          "base_uri": "https://localhost:8080/"
        },
        "id": "uoZh2nOGXuJc",
        "outputId": "45cfa769-c1a0-4dc0-f655-539a829b4979"
      },
      "outputs": [
        {
          "output_type": "execute_result",
          "data": {
            "text/plain": [
              "220.86592897751416"
            ]
          },
          "metadata": {},
          "execution_count": 66
        }
      ],
      "source": [
        "compute_cost(x_test, y_test, w_final, b_final)"
      ]
    },
    {
      "cell_type": "markdown",
      "metadata": {
        "id": "gEPrJMkhfbUU"
      },
      "source": [
        "#5. 邏輯迴歸\n",
        "\n",
        "若結果只會有「是」和「否」，則可以使用邏輯迴歸"
      ]
    },
    {
      "cell_type": "markdown",
      "metadata": {
        "id": "JFz33C6esEqN"
      },
      "source": [
        "## One Hot Encoding\n",
        "\n",
        "首先轉換性別，是男生為1，非男生為0"
      ]
    },
    {
      "cell_type": "code",
      "execution_count": null,
      "metadata": {
        "id": "xDtnl7XcsEFg"
      },
      "outputs": [],
      "source": [
        "data3[\"Gender\"] = data3[\"Gender\"].map({\"男生\":1,\"女生\":0})"
      ]
    },
    {
      "cell_type": "code",
      "execution_count": null,
      "metadata": {
        "id": "ZWxVjDj1sn4J"
      },
      "outputs": [],
      "source": [
        "# from sklearn.model_selection import train_test_split\n",
        "x = data3[[\"Age\", \"Weight\", \"BloodSugar\", \"Gender\"]]\n",
        "y = data3[\"Diabetes\"]"
      ]
    },
    {
      "cell_type": "markdown",
      "metadata": {
        "id": "Y4mqBLOq5P8b"
      },
      "source": [
        "## 資料集分割"
      ]
    },
    {
      "cell_type": "code",
      "execution_count": null,
      "metadata": {
        "id": "B6tB3b-Z5OfR"
      },
      "outputs": [],
      "source": [
        "x_train, x_test, y_train, y_test = train_test_split(x, y, test_size=0.2) #取隨機2成作為測試集, 可額外傳入random_state=2來決定隨機種子\n",
        "x_train = x_train.to_numpy()\n",
        "x_test = x_test.to_numpy()"
      ]
    },
    {
      "cell_type": "markdown",
      "metadata": {
        "id": "usK_uLeejZf0"
      },
      "source": [
        "## 特徵縮放"
      ]
    },
    {
      "cell_type": "code",
      "execution_count": null,
      "metadata": {
        "id": "pP79vdO5jY0x"
      },
      "outputs": [],
      "source": [
        "# from sklearn.preprocessing import StanderScaler\n",
        "\n",
        "scaler = StandardScaler()\n",
        "scaler.fit(x_train)\n",
        "x_train = scaler.transform(x_train)\n",
        "x_test = scaler.transform(x_test)"
      ]
    },
    {
      "cell_type": "markdown",
      "metadata": {
        "id": "mlHxCXxIk2rd"
      },
      "source": [
        "## 定義開關函數 - S型函數\n",
        "\n",
        "這次要用以預測的函數稱為：\n",
        "\n",
        "**S型函數(Sigmoid Function)**\n",
        "\n",
        "先設多元線性函數：\n",
        "```\n",
        "z = w1*x1 + w2*x2 + ... + b\n",
        "```\n",
        "使用的S型函數如下：\n",
        "```\n",
        "y = 1 / (1 + e^(-z))\n",
        "```\n",
        "該函數的目的在於將原本多元線性函數的值域變換到(0,1)的範圍，\n",
        "\n",
        "如此才能利用之前使用的方法，透過成本函數進行梯度下降法。\n",
        "\n",
        "---\n",
        "\n",
        "本例使用之**S型函數(sigmoid function)**，其實有很多函數都符合，但本例使用最常見的 1/(1+exp(x))，常被用在人工神經網路，其函數也被稱為是**邏輯函數(logistic function)**。\n",
        "\n",
        "其他**S型函數(sigmoid function)**包含：- 資料來源[2]\n",
        "* 雙曲正切函數 tanh(x)\n",
        "* 反正切函數 arctan(x)\n",
        "* 古德曼函數\n",
        "* 誤差函數\n",
        "* 廣義邏輯函數\n",
        "* 平滑步函數\n",
        "* 其他的一些代數函數 1/(1+|x|^a)^(1/a)\n",
        "\n",
        "**邏輯函數(logistic function)**同時也是邏輯迴歸的模型，就好比簡單線性迴歸的直線方程式，和多元線性迴歸的多元方程式。"
      ]
    },
    {
      "cell_type": "code",
      "execution_count": null,
      "metadata": {
        "id": "6LFOWEfkkfqR"
      },
      "outputs": [],
      "source": [
        "def sigmoid(z):\n",
        "  return 1/(1+np.exp(-z))"
      ]
    },
    {
      "cell_type": "markdown",
      "metadata": {
        "id": "nXCLywOWFkfB"
      },
      "source": [
        "## 定義預測函數\n",
        "\n",
        "與多元線性回歸相同，將多個特徵各自乘上各自權重w，最後加上偏移量b。\n",
        "```\n",
        "z = (w*x_train).sum(axis=1) + b\n",
        "```"
      ]
    },
    {
      "cell_type": "markdown",
      "metadata": {
        "id": "sV2atoSk6a4h"
      },
      "source": [
        "## 定義成本函數"
      ]
    },
    {
      "cell_type": "code",
      "execution_count": null,
      "metadata": {
        "id": "fQz3A3HrkLSC"
      },
      "outputs": [],
      "source": [
        "def compute_cost(x, y, w, b):\n",
        "  z = (w*x_train).sum(axis=1) + b\n",
        "  z = sigmoid(z)\n",
        "  return ((y - z)**2).mean()"
      ]
    },
    {
      "cell_type": "markdown",
      "metadata": {
        "id": "IdIWzl8V7Wg2"
      },
      "source": [
        "## 定義梯度函數\n",
        "\n",
        "我們有了預測函數\n",
        "```\n",
        "z = w1*x1 + w2*x2 + w3*x3 + w4*x4 + b\n",
        "y_pred = 1 / (1 + e^(-z))\n",
        "```\n",
        "以及用來計算的成本函數\n",
        "```\n",
        "cost = (y_pred - y)^2\n",
        "```\n",
        "同樣地，要使成本函數對各個w和b偏微分，這一次要偏微分的方程式結合S型函數和預測函數：\n",
        "得：\n",
        "```\n",
        "w1_gradient = 2*(x1*(y_pred - y)*(-z * e^(-z)*y_pred**2))\n",
        "w2_gradient = 2*(x2*(y_pred - y)*(-z * e^(-z)*y_pred**2))\n",
        "w3_gradient = 2*(x3*(y_pred - y)*(-z * e^(-z)*y_pred**2))\n",
        "w4_gradient = 2*(x4*(y_pred - y)*(-z * e^(-z)*y_pred**2))\n",
        "b_gradient = 2*((y_pred - y)*(-z * e^(-z)*y_pred**2))\n",
        "```\n",
        "同樣，係數2可以與後續的學習率合併，因此簡化成：\n",
        "```\n",
        "w1_gradient = x1*(y_pred - y)*(-z * e^(-z)*y_pred**2)\n",
        "w2_gradient = x2*(y_pred - y)*(-z * e^(-z)*y_pred**2)\n",
        "w3_gradient = x3*(y_pred - y)*(-z * e^(-z)*y_pred**2)\n",
        "w4_gradient = x4*(y_pred - y)*(-z * e^(-z)*y_pred**2)\n",
        "b_gradient = (y_pred - y)*(-z * e^(-z)*y_pred**2)\n",
        "```\n",
        "利用for迴圈可簡化成：\n",
        "```\n",
        "b_gradient = ((y_pred - y)*(-z * e^(-z)*y_pred**2)).mean()\n",
        "for i in range(x.shape[1]):\n",
        "    w_gradient = (x[:,i]*(y_pred - y)**(-z * e^(-z)*y_pred**2)).mean()\n",
        "```"
      ]
    },
    {
      "cell_type": "code",
      "execution_count": null,
      "metadata": {
        "id": "-mylkfo3GnP9"
      },
      "outputs": [],
      "source": [
        "def compute_gradient(x, y, w, b):\n",
        "  z = (x*w).sum(axis=1) + b\n",
        "  y_pred = sigmoid(z)\n",
        "  e = np.exp(-z)\n",
        "  d = z * e*y_pred**2\n",
        "  b_gradient = ((y_pred - y)*d).mean()\n",
        "  w_gradient = np.zeros(x.shape[1])\n",
        "  \n",
        "  for i in range(x.shape[1]):\n",
        "      w_gradient = (x[:,i]*(y_pred - y)*d).mean()\n",
        "\n",
        "  return w_gradient, b_gradient"
      ]
    },
    {
      "cell_type": "markdown",
      "metadata": {
        "id": "f13KipQ3Qi0s"
      },
      "source": [
        "## 定義梯度下降的迭代函數"
      ]
    },
    {
      "cell_type": "code",
      "execution_count": null,
      "metadata": {
        "id": "ZYb7cFGvQsJ-"
      },
      "outputs": [],
      "source": [
        "np.set_printoptions(formatter={'float':'{: .2e}'.format})\n",
        "def gradient_descent(x, y, w_init, b_init, learning_rate, cost_function, gradient_function, run_iter=10000, p_iter=1000):\n",
        "  c_hist = []\n",
        "  w_hist = []\n",
        "  b_hist = []\n",
        "  \n",
        "  w = w_init\n",
        "  b = b_init\n",
        "  \n",
        "  for i in range(run_iter):\n",
        "    w_gradient, b_gradient = gradient_function(x, y, w, b)\n",
        "    \n",
        "    w = w - w_gradient*learning_rate\n",
        "    b = b - b_gradient*learning_rate\n",
        "    cost = cost_function(x, y, w, b)\n",
        "\n",
        "    w_hist.append(w)\n",
        "    b_hist.append(b)\n",
        "    c_hist.append(cost)\n",
        "\n",
        "    if i%p_iter==0:\n",
        "      print(f\"iteration {i:5}: Cost: {cost: .4e}, w: {w}, b: {b: .2e}, w_gradient: {w_gradient: .2e}, b_gradient: {b_gradient: .2e}\")\n",
        "\n",
        "  return w, b, w_hist, b_hist, c_hist"
      ]
    },
    {
      "cell_type": "markdown",
      "source": [
        "## 尋找最佳參數組"
      ],
      "metadata": {
        "id": "tqRVt5mXkC_6"
      }
    },
    {
      "cell_type": "code",
      "execution_count": null,
      "metadata": {
        "colab": {
          "base_uri": "https://localhost:8080/"
        },
        "id": "fZsjgWHWRvaD",
        "outputId": "d4e54788-2182-4eba-a00c-d779f8e5ee61"
      },
      "outputs": [
        {
          "output_type": "stream",
          "name": "stdout",
          "text": [
            "iteration     0: Cost:  3.0435e-01, w: [ 1.00e+00  2.00e+00  2.00e+00  4.00e+00], b: -1.37e-04, w_gradient:  1.31e-02, b_gradient:  2.74e-02\n",
            "iteration  1000: Cost:  3.0209e-01, w: [ 9.34e-01  1.93e+00  1.93e+00  3.93e+00], b: -1.39e-01, w_gradient:  1.31e-02, b_gradient:  2.80e-02\n",
            "iteration  2000: Cost:  2.9986e-01, w: [ 8.69e-01  1.87e+00  1.87e+00  3.87e+00], b: -2.81e-01, w_gradient:  1.29e-02, b_gradient:  2.88e-02\n",
            "iteration  3000: Cost:  2.9761e-01, w: [ 8.05e-01  1.81e+00  1.81e+00  3.81e+00], b: -4.27e-01, w_gradient:  1.25e-02, b_gradient:  2.97e-02\n",
            "iteration  4000: Cost:  2.9523e-01, w: [ 7.45e-01  1.74e+00  1.74e+00  3.74e+00], b: -5.77e-01, w_gradient:  1.18e-02, b_gradient:  3.06e-02\n",
            "iteration  5000: Cost:  2.9263e-01, w: [ 6.88e-01  1.69e+00  1.69e+00  3.69e+00], b: -7.32e-01, w_gradient:  1.08e-02, b_gradient:  3.15e-02\n",
            "iteration  6000: Cost:  2.8970e-01, w: [ 6.37e-01  1.64e+00  1.64e+00  3.64e+00], b: -8.92e-01, w_gradient:  9.60e-03, b_gradient:  3.22e-02\n",
            "iteration  7000: Cost:  2.8637e-01, w: [ 5.93e-01  1.59e+00  1.59e+00  3.59e+00], b: -1.05e+00, w_gradient:  8.33e-03, b_gradient:  3.27e-02\n",
            "iteration  8000: Cost:  2.8265e-01, w: [ 5.54e-01  1.55e+00  1.55e+00  3.55e+00], b: -1.22e+00, w_gradient:  7.05e-03, b_gradient:  3.28e-02\n",
            "iteration  9000: Cost:  2.7857e-01, w: [ 5.22e-01  1.52e+00  1.52e+00  3.52e+00], b: -1.38e+00, w_gradient:  5.81e-03, b_gradient:  3.26e-02\n"
          ]
        }
      ],
      "source": [
        "w_init = np.array([1,2,2,4])\n",
        "w_final, b_final, w_list, b_list, c_list = gradient_descent(x_train, y_train, w_init, b_init=0, learning_rate=0.005, cost_function = compute_cost, gradient_function = compute_gradient, run_iter=10000, p_iter=1000)"
      ]
    },
    {
      "cell_type": "markdown",
      "source": [
        "## 成效檢視"
      ],
      "metadata": {
        "id": "2Ymwa1a3kGqP"
      }
    },
    {
      "cell_type": "code",
      "source": [
        "compute_cost(x_test, y_test, w_final, b_final)"
      ],
      "metadata": {
        "colab": {
          "base_uri": "https://localhost:8080/",
          "height": 1000
        },
        "id": "svfWRAsEieAz",
        "outputId": "d836d6f5-02d9-4327-e133-c3626465902a"
      },
      "execution_count": null,
      "outputs": [
        {
          "output_type": "error",
          "ename": "ValueError",
          "evalue": "ignored",
          "traceback": [
            "\u001b[0;31m---------------------------------------------------------------------------\u001b[0m",
            "\u001b[0;31mValueError\u001b[0m                                Traceback (most recent call last)",
            "\u001b[0;32m<ipython-input-84-009cdfc57207>\u001b[0m in \u001b[0;36m<cell line: 1>\u001b[0;34m()\u001b[0m\n\u001b[0;32m----> 1\u001b[0;31m \u001b[0mcompute_cost\u001b[0m\u001b[0;34m(\u001b[0m\u001b[0mx_test\u001b[0m\u001b[0;34m,\u001b[0m \u001b[0my_test\u001b[0m\u001b[0;34m,\u001b[0m \u001b[0mw_final\u001b[0m\u001b[0;34m,\u001b[0m \u001b[0mb_final\u001b[0m\u001b[0;34m)\u001b[0m\u001b[0;34m\u001b[0m\u001b[0;34m\u001b[0m\u001b[0m\n\u001b[0m",
            "\u001b[0;32m<ipython-input-80-539412fb9f0c>\u001b[0m in \u001b[0;36mcompute_cost\u001b[0;34m(x, y, w, b)\u001b[0m\n\u001b[1;32m      2\u001b[0m   \u001b[0mz\u001b[0m \u001b[0;34m=\u001b[0m \u001b[0;34m(\u001b[0m\u001b[0mw\u001b[0m\u001b[0;34m*\u001b[0m\u001b[0mx_train\u001b[0m\u001b[0;34m)\u001b[0m\u001b[0;34m.\u001b[0m\u001b[0msum\u001b[0m\u001b[0;34m(\u001b[0m\u001b[0maxis\u001b[0m\u001b[0;34m=\u001b[0m\u001b[0;36m1\u001b[0m\u001b[0;34m)\u001b[0m \u001b[0;34m+\u001b[0m \u001b[0mb\u001b[0m\u001b[0;34m\u001b[0m\u001b[0;34m\u001b[0m\u001b[0m\n\u001b[1;32m      3\u001b[0m   \u001b[0mz\u001b[0m \u001b[0;34m=\u001b[0m \u001b[0msigmoid\u001b[0m\u001b[0;34m(\u001b[0m\u001b[0mz\u001b[0m\u001b[0;34m)\u001b[0m\u001b[0;34m\u001b[0m\u001b[0;34m\u001b[0m\u001b[0m\n\u001b[0;32m----> 4\u001b[0;31m   \u001b[0;32mreturn\u001b[0m \u001b[0;34m(\u001b[0m\u001b[0;34m(\u001b[0m\u001b[0my\u001b[0m \u001b[0;34m-\u001b[0m \u001b[0mz\u001b[0m\u001b[0;34m)\u001b[0m\u001b[0;34m**\u001b[0m\u001b[0;36m2\u001b[0m\u001b[0;34m)\u001b[0m\u001b[0;34m.\u001b[0m\u001b[0mmean\u001b[0m\u001b[0;34m(\u001b[0m\u001b[0;34m)\u001b[0m\u001b[0;34m\u001b[0m\u001b[0;34m\u001b[0m\u001b[0m\n\u001b[0m",
            "\u001b[0;32m/usr/local/lib/python3.10/dist-packages/pandas/core/ops/common.py\u001b[0m in \u001b[0;36mnew_method\u001b[0;34m(self, other)\u001b[0m\n\u001b[1;32m     70\u001b[0m         \u001b[0mother\u001b[0m \u001b[0;34m=\u001b[0m \u001b[0mitem_from_zerodim\u001b[0m\u001b[0;34m(\u001b[0m\u001b[0mother\u001b[0m\u001b[0;34m)\u001b[0m\u001b[0;34m\u001b[0m\u001b[0;34m\u001b[0m\u001b[0m\n\u001b[1;32m     71\u001b[0m \u001b[0;34m\u001b[0m\u001b[0m\n\u001b[0;32m---> 72\u001b[0;31m         \u001b[0;32mreturn\u001b[0m \u001b[0mmethod\u001b[0m\u001b[0;34m(\u001b[0m\u001b[0mself\u001b[0m\u001b[0;34m,\u001b[0m \u001b[0mother\u001b[0m\u001b[0;34m)\u001b[0m\u001b[0;34m\u001b[0m\u001b[0;34m\u001b[0m\u001b[0m\n\u001b[0m\u001b[1;32m     73\u001b[0m \u001b[0;34m\u001b[0m\u001b[0m\n\u001b[1;32m     74\u001b[0m     \u001b[0;32mreturn\u001b[0m \u001b[0mnew_method\u001b[0m\u001b[0;34m\u001b[0m\u001b[0;34m\u001b[0m\u001b[0m\n",
            "\u001b[0;32m/usr/local/lib/python3.10/dist-packages/pandas/core/arraylike.py\u001b[0m in \u001b[0;36m__sub__\u001b[0;34m(self, other)\u001b[0m\n\u001b[1;32m    108\u001b[0m     \u001b[0;34m@\u001b[0m\u001b[0munpack_zerodim_and_defer\u001b[0m\u001b[0;34m(\u001b[0m\u001b[0;34m\"__sub__\"\u001b[0m\u001b[0;34m)\u001b[0m\u001b[0;34m\u001b[0m\u001b[0;34m\u001b[0m\u001b[0m\n\u001b[1;32m    109\u001b[0m     \u001b[0;32mdef\u001b[0m \u001b[0m__sub__\u001b[0m\u001b[0;34m(\u001b[0m\u001b[0mself\u001b[0m\u001b[0;34m,\u001b[0m \u001b[0mother\u001b[0m\u001b[0;34m)\u001b[0m\u001b[0;34m:\u001b[0m\u001b[0;34m\u001b[0m\u001b[0;34m\u001b[0m\u001b[0m\n\u001b[0;32m--> 110\u001b[0;31m         \u001b[0;32mreturn\u001b[0m \u001b[0mself\u001b[0m\u001b[0;34m.\u001b[0m\u001b[0m_arith_method\u001b[0m\u001b[0;34m(\u001b[0m\u001b[0mother\u001b[0m\u001b[0;34m,\u001b[0m \u001b[0moperator\u001b[0m\u001b[0;34m.\u001b[0m\u001b[0msub\u001b[0m\u001b[0;34m)\u001b[0m\u001b[0;34m\u001b[0m\u001b[0;34m\u001b[0m\u001b[0m\n\u001b[0m\u001b[1;32m    111\u001b[0m \u001b[0;34m\u001b[0m\u001b[0m\n\u001b[1;32m    112\u001b[0m     \u001b[0;34m@\u001b[0m\u001b[0munpack_zerodim_and_defer\u001b[0m\u001b[0;34m(\u001b[0m\u001b[0;34m\"__rsub__\"\u001b[0m\u001b[0;34m)\u001b[0m\u001b[0;34m\u001b[0m\u001b[0;34m\u001b[0m\u001b[0m\n",
            "\u001b[0;32m/usr/local/lib/python3.10/dist-packages/pandas/core/series.py\u001b[0m in \u001b[0;36m_arith_method\u001b[0;34m(self, other, op)\u001b[0m\n\u001b[1;32m   6257\u001b[0m     \u001b[0;32mdef\u001b[0m \u001b[0m_arith_method\u001b[0m\u001b[0;34m(\u001b[0m\u001b[0mself\u001b[0m\u001b[0;34m,\u001b[0m \u001b[0mother\u001b[0m\u001b[0;34m,\u001b[0m \u001b[0mop\u001b[0m\u001b[0;34m)\u001b[0m\u001b[0;34m:\u001b[0m\u001b[0;34m\u001b[0m\u001b[0;34m\u001b[0m\u001b[0m\n\u001b[1;32m   6258\u001b[0m         \u001b[0mself\u001b[0m\u001b[0;34m,\u001b[0m \u001b[0mother\u001b[0m \u001b[0;34m=\u001b[0m \u001b[0mops\u001b[0m\u001b[0;34m.\u001b[0m\u001b[0malign_method_SERIES\u001b[0m\u001b[0;34m(\u001b[0m\u001b[0mself\u001b[0m\u001b[0;34m,\u001b[0m \u001b[0mother\u001b[0m\u001b[0;34m)\u001b[0m\u001b[0;34m\u001b[0m\u001b[0;34m\u001b[0m\u001b[0m\n\u001b[0;32m-> 6259\u001b[0;31m         \u001b[0;32mreturn\u001b[0m \u001b[0mbase\u001b[0m\u001b[0;34m.\u001b[0m\u001b[0mIndexOpsMixin\u001b[0m\u001b[0;34m.\u001b[0m\u001b[0m_arith_method\u001b[0m\u001b[0;34m(\u001b[0m\u001b[0mself\u001b[0m\u001b[0;34m,\u001b[0m \u001b[0mother\u001b[0m\u001b[0;34m,\u001b[0m \u001b[0mop\u001b[0m\u001b[0;34m)\u001b[0m\u001b[0;34m\u001b[0m\u001b[0;34m\u001b[0m\u001b[0m\n\u001b[0m\u001b[1;32m   6260\u001b[0m \u001b[0;34m\u001b[0m\u001b[0m\n\u001b[1;32m   6261\u001b[0m \u001b[0;34m\u001b[0m\u001b[0m\n",
            "\u001b[0;32m/usr/local/lib/python3.10/dist-packages/pandas/core/base.py\u001b[0m in \u001b[0;36m_arith_method\u001b[0;34m(self, other, op)\u001b[0m\n\u001b[1;32m   1323\u001b[0m \u001b[0;34m\u001b[0m\u001b[0m\n\u001b[1;32m   1324\u001b[0m         \u001b[0;32mwith\u001b[0m \u001b[0mnp\u001b[0m\u001b[0;34m.\u001b[0m\u001b[0merrstate\u001b[0m\u001b[0;34m(\u001b[0m\u001b[0mall\u001b[0m\u001b[0;34m=\u001b[0m\u001b[0;34m\"ignore\"\u001b[0m\u001b[0;34m)\u001b[0m\u001b[0;34m:\u001b[0m\u001b[0;34m\u001b[0m\u001b[0;34m\u001b[0m\u001b[0m\n\u001b[0;32m-> 1325\u001b[0;31m             \u001b[0mresult\u001b[0m \u001b[0;34m=\u001b[0m \u001b[0mops\u001b[0m\u001b[0;34m.\u001b[0m\u001b[0marithmetic_op\u001b[0m\u001b[0;34m(\u001b[0m\u001b[0mlvalues\u001b[0m\u001b[0;34m,\u001b[0m \u001b[0mrvalues\u001b[0m\u001b[0;34m,\u001b[0m \u001b[0mop\u001b[0m\u001b[0;34m)\u001b[0m\u001b[0;34m\u001b[0m\u001b[0;34m\u001b[0m\u001b[0m\n\u001b[0m\u001b[1;32m   1326\u001b[0m \u001b[0;34m\u001b[0m\u001b[0m\n\u001b[1;32m   1327\u001b[0m         \u001b[0;32mreturn\u001b[0m \u001b[0mself\u001b[0m\u001b[0;34m.\u001b[0m\u001b[0m_construct_result\u001b[0m\u001b[0;34m(\u001b[0m\u001b[0mresult\u001b[0m\u001b[0;34m,\u001b[0m \u001b[0mname\u001b[0m\u001b[0;34m=\u001b[0m\u001b[0mres_name\u001b[0m\u001b[0;34m)\u001b[0m\u001b[0;34m\u001b[0m\u001b[0;34m\u001b[0m\u001b[0m\n",
            "\u001b[0;32m/usr/local/lib/python3.10/dist-packages/pandas/core/ops/array_ops.py\u001b[0m in \u001b[0;36marithmetic_op\u001b[0;34m(left, right, op)\u001b[0m\n\u001b[1;32m    224\u001b[0m         \u001b[0;31m# error: Argument 1 to \"_na_arithmetic_op\" has incompatible type\u001b[0m\u001b[0;34m\u001b[0m\u001b[0;34m\u001b[0m\u001b[0m\n\u001b[1;32m    225\u001b[0m         \u001b[0;31m# \"Union[ExtensionArray, ndarray[Any, Any]]\"; expected \"ndarray[Any, Any]\"\u001b[0m\u001b[0;34m\u001b[0m\u001b[0;34m\u001b[0m\u001b[0m\n\u001b[0;32m--> 226\u001b[0;31m         \u001b[0mres_values\u001b[0m \u001b[0;34m=\u001b[0m \u001b[0m_na_arithmetic_op\u001b[0m\u001b[0;34m(\u001b[0m\u001b[0mleft\u001b[0m\u001b[0;34m,\u001b[0m \u001b[0mright\u001b[0m\u001b[0;34m,\u001b[0m \u001b[0mop\u001b[0m\u001b[0;34m)\u001b[0m  \u001b[0;31m# type: ignore[arg-type]\u001b[0m\u001b[0;34m\u001b[0m\u001b[0;34m\u001b[0m\u001b[0m\n\u001b[0m\u001b[1;32m    227\u001b[0m \u001b[0;34m\u001b[0m\u001b[0m\n\u001b[1;32m    228\u001b[0m     \u001b[0;32mreturn\u001b[0m \u001b[0mres_values\u001b[0m\u001b[0;34m\u001b[0m\u001b[0;34m\u001b[0m\u001b[0m\n",
            "\u001b[0;32m/usr/local/lib/python3.10/dist-packages/pandas/core/ops/array_ops.py\u001b[0m in \u001b[0;36m_na_arithmetic_op\u001b[0;34m(left, right, op, is_cmp)\u001b[0m\n\u001b[1;32m    163\u001b[0m \u001b[0;34m\u001b[0m\u001b[0m\n\u001b[1;32m    164\u001b[0m     \u001b[0;32mtry\u001b[0m\u001b[0;34m:\u001b[0m\u001b[0;34m\u001b[0m\u001b[0;34m\u001b[0m\u001b[0m\n\u001b[0;32m--> 165\u001b[0;31m         \u001b[0mresult\u001b[0m \u001b[0;34m=\u001b[0m \u001b[0mfunc\u001b[0m\u001b[0;34m(\u001b[0m\u001b[0mleft\u001b[0m\u001b[0;34m,\u001b[0m \u001b[0mright\u001b[0m\u001b[0;34m)\u001b[0m\u001b[0;34m\u001b[0m\u001b[0;34m\u001b[0m\u001b[0m\n\u001b[0m\u001b[1;32m    166\u001b[0m     \u001b[0;32mexcept\u001b[0m \u001b[0mTypeError\u001b[0m\u001b[0;34m:\u001b[0m\u001b[0;34m\u001b[0m\u001b[0;34m\u001b[0m\u001b[0m\n\u001b[1;32m    167\u001b[0m         \u001b[0;32mif\u001b[0m \u001b[0;32mnot\u001b[0m \u001b[0mis_cmp\u001b[0m \u001b[0;32mand\u001b[0m \u001b[0;34m(\u001b[0m\u001b[0mis_object_dtype\u001b[0m\u001b[0;34m(\u001b[0m\u001b[0mleft\u001b[0m\u001b[0;34m.\u001b[0m\u001b[0mdtype\u001b[0m\u001b[0;34m)\u001b[0m \u001b[0;32mor\u001b[0m \u001b[0mis_object_dtype\u001b[0m\u001b[0;34m(\u001b[0m\u001b[0mright\u001b[0m\u001b[0;34m)\u001b[0m\u001b[0;34m)\u001b[0m\u001b[0;34m:\u001b[0m\u001b[0;34m\u001b[0m\u001b[0;34m\u001b[0m\u001b[0m\n",
            "\u001b[0;32m/usr/local/lib/python3.10/dist-packages/pandas/core/computation/expressions.py\u001b[0m in \u001b[0;36mevaluate\u001b[0;34m(op, a, b, use_numexpr)\u001b[0m\n\u001b[1;32m    239\u001b[0m         \u001b[0;32mif\u001b[0m \u001b[0muse_numexpr\u001b[0m\u001b[0;34m:\u001b[0m\u001b[0;34m\u001b[0m\u001b[0;34m\u001b[0m\u001b[0m\n\u001b[1;32m    240\u001b[0m             \u001b[0;31m# error: \"None\" not callable\u001b[0m\u001b[0;34m\u001b[0m\u001b[0;34m\u001b[0m\u001b[0m\n\u001b[0;32m--> 241\u001b[0;31m             \u001b[0;32mreturn\u001b[0m \u001b[0m_evaluate\u001b[0m\u001b[0;34m(\u001b[0m\u001b[0mop\u001b[0m\u001b[0;34m,\u001b[0m \u001b[0mop_str\u001b[0m\u001b[0;34m,\u001b[0m \u001b[0ma\u001b[0m\u001b[0;34m,\u001b[0m \u001b[0mb\u001b[0m\u001b[0;34m)\u001b[0m  \u001b[0;31m# type: ignore[misc]\u001b[0m\u001b[0;34m\u001b[0m\u001b[0;34m\u001b[0m\u001b[0m\n\u001b[0m\u001b[1;32m    242\u001b[0m     \u001b[0;32mreturn\u001b[0m \u001b[0m_evaluate_standard\u001b[0m\u001b[0;34m(\u001b[0m\u001b[0mop\u001b[0m\u001b[0;34m,\u001b[0m \u001b[0mop_str\u001b[0m\u001b[0;34m,\u001b[0m \u001b[0ma\u001b[0m\u001b[0;34m,\u001b[0m \u001b[0mb\u001b[0m\u001b[0;34m)\u001b[0m\u001b[0;34m\u001b[0m\u001b[0;34m\u001b[0m\u001b[0m\n\u001b[1;32m    243\u001b[0m \u001b[0;34m\u001b[0m\u001b[0m\n",
            "\u001b[0;32m/usr/local/lib/python3.10/dist-packages/pandas/core/computation/expressions.py\u001b[0m in \u001b[0;36m_evaluate_numexpr\u001b[0;34m(op, op_str, a, b)\u001b[0m\n\u001b[1;32m    127\u001b[0m \u001b[0;34m\u001b[0m\u001b[0m\n\u001b[1;32m    128\u001b[0m     \u001b[0;32mif\u001b[0m \u001b[0mresult\u001b[0m \u001b[0;32mis\u001b[0m \u001b[0;32mNone\u001b[0m\u001b[0;34m:\u001b[0m\u001b[0;34m\u001b[0m\u001b[0;34m\u001b[0m\u001b[0m\n\u001b[0;32m--> 129\u001b[0;31m         \u001b[0mresult\u001b[0m \u001b[0;34m=\u001b[0m \u001b[0m_evaluate_standard\u001b[0m\u001b[0;34m(\u001b[0m\u001b[0mop\u001b[0m\u001b[0;34m,\u001b[0m \u001b[0mop_str\u001b[0m\u001b[0;34m,\u001b[0m \u001b[0ma\u001b[0m\u001b[0;34m,\u001b[0m \u001b[0mb\u001b[0m\u001b[0;34m)\u001b[0m\u001b[0;34m\u001b[0m\u001b[0;34m\u001b[0m\u001b[0m\n\u001b[0m\u001b[1;32m    130\u001b[0m \u001b[0;34m\u001b[0m\u001b[0m\n\u001b[1;32m    131\u001b[0m     \u001b[0;32mreturn\u001b[0m \u001b[0mresult\u001b[0m\u001b[0;34m\u001b[0m\u001b[0;34m\u001b[0m\u001b[0m\n",
            "\u001b[0;32m/usr/local/lib/python3.10/dist-packages/pandas/core/computation/expressions.py\u001b[0m in \u001b[0;36m_evaluate_standard\u001b[0;34m(op, op_str, a, b)\u001b[0m\n\u001b[1;32m     68\u001b[0m     \u001b[0;32mif\u001b[0m \u001b[0m_TEST_MODE\u001b[0m\u001b[0;34m:\u001b[0m\u001b[0;34m\u001b[0m\u001b[0;34m\u001b[0m\u001b[0m\n\u001b[1;32m     69\u001b[0m         \u001b[0m_store_test_result\u001b[0m\u001b[0;34m(\u001b[0m\u001b[0;32mFalse\u001b[0m\u001b[0;34m)\u001b[0m\u001b[0;34m\u001b[0m\u001b[0;34m\u001b[0m\u001b[0m\n\u001b[0;32m---> 70\u001b[0;31m     \u001b[0;32mreturn\u001b[0m \u001b[0mop\u001b[0m\u001b[0;34m(\u001b[0m\u001b[0ma\u001b[0m\u001b[0;34m,\u001b[0m \u001b[0mb\u001b[0m\u001b[0;34m)\u001b[0m\u001b[0;34m\u001b[0m\u001b[0;34m\u001b[0m\u001b[0m\n\u001b[0m\u001b[1;32m     71\u001b[0m \u001b[0;34m\u001b[0m\u001b[0m\n\u001b[1;32m     72\u001b[0m \u001b[0;34m\u001b[0m\u001b[0m\n",
            "\u001b[0;31mValueError\u001b[0m: operands could not be broadcast together with shapes (80,) (320,) "
          ]
        }
      ]
    },
    {
      "cell_type": "code",
      "source": [
        "x_train, y_train, x_test, y_test"
      ],
      "metadata": {
        "colab": {
          "base_uri": "https://localhost:8080/"
        },
        "id": "kd24R6ncnXdP",
        "outputId": "891cc1df-e18d-4c1a-fcde-73d2cbdc5d81"
      },
      "execution_count": null,
      "outputs": [
        {
          "output_type": "execute_result",
          "data": {
            "text/plain": [
              "(array([[ 3.90e-01,  1.10e+00,  4.59e-01, -1.04e+00],\n",
              "        [-1.19e+00, -1.55e+00, -1.12e+00,  9.57e-01],\n",
              "        [ 8.16e-01, -1.83e-01,  7.41e-01, -1.04e+00],\n",
              "        ...,\n",
              "        [-8.87e-01,  1.15e+00, -9.91e-01,  9.57e-01],\n",
              "        [ 8.77e-01,  1.10e+00,  3.84e-01, -1.04e+00],\n",
              "        [ 2.08e-01,  1.10e+00, -1.11e+00,  9.57e-01]]),\n",
              " 322    1\n",
              " 258    0\n",
              " 211    0\n",
              " 0      1\n",
              " 397    0\n",
              "       ..\n",
              " 8      1\n",
              " 16     1\n",
              " 379    0\n",
              " 58     0\n",
              " 112    0\n",
              " Name: Diabetes, Length: 320, dtype: int64,\n",
              " array([[-1.80e+00,  1.23e+00,  6.36e-01,  9.57e-01],\n",
              "        [ 5.73e-01, -5.46e-02, -6.56e-01,  9.57e-01],\n",
              "        [ 1.61e+00, -1.38e+00, -1.67e+00, -1.04e+00],\n",
              "        [-6.44e-01,  1.53e+00,  1.11e+00,  9.57e-01],\n",
              "        [ 1.47e-01, -1.47e+00,  3.16e-02,  9.57e-01],\n",
              "        [ 1.24e+00, -7.83e-01,  2.04e-01,  9.57e-01],\n",
              "        [ 1.18e+00,  3.31e-01,  1.64e+00, -1.04e+00],\n",
              "        [-8.87e-01,  1.53e+00, -3.48e-01,  9.57e-01],\n",
              "        [-1.74e+00, -1.47e+00, -1.25e+00,  9.57e-01],\n",
              "        [ 5.73e-01, -9.54e-01,  9.55e-03,  9.57e-01],\n",
              "        [ 1.55e+00,  6.74e-01,  1.46e+00, -1.04e+00],\n",
              "        [-1.43e+00,  2.45e-01, -4.00e-01, -1.04e+00],\n",
              "        [ 2.53e-02, -1.43e+00, -2.13e-02, -1.04e+00],\n",
              "        [-1.37e+00,  2.45e-01,  1.28e+00, -1.04e+00],\n",
              "        [ 9.98e-01,  7.59e-01,  2.26e-01,  9.57e-01],\n",
              "        [-1.25e+00, -1.25e+00, -5.37e-01, -1.04e+00],\n",
              "        [-5.22e-01,  3.31e-01, -8.46e-01, -1.04e+00],\n",
              "        [-1.80e+00, -1.21e+00, -1.10e+00,  9.57e-01],\n",
              "        [-1.01e+00, -1.73e+00, -2.73e+00,  9.57e-01],\n",
              "        [ 9.38e-01, -7.40e-01,  1.26e+00, -1.04e+00],\n",
              "        [ 1.30e+00, -6.97e-01, -1.58e+00,  9.57e-01],\n",
              "        [-9.64e-02,  2.02e-01, -6.39e-01,  9.57e-01],\n",
              "        [-1.74e+00, -3.12e-01, -7.71e-01, -1.04e+00],\n",
              "        [-2.18e-01, -1.73e+00, -1.24e+00,  9.57e-01],\n",
              "        [ 1.18e+00,  9.31e-01, -2.24e-01, -1.04e+00],\n",
              "        [-1.25e+00, -9.12e-01,  4.72e-01, -1.04e+00],\n",
              "        [-1.56e+00,  1.40e+00, -8.37e-01, -1.04e+00],\n",
              "        [ 1.06e+00,  7.59e-01,  1.47e+00, -1.04e+00],\n",
              "        [ 1.12e+00, -9.97e-01,  1.15e-01,  9.57e-01],\n",
              "        [ 5.73e-01,  1.57e+00,  1.66e+00,  9.57e-01],\n",
              "        [ 9.98e-01,  3.11e-02, -1.05e-01,  9.57e-01],\n",
              "        [ 1.73e+00,  5.02e-01,  8.60e-01,  9.57e-01],\n",
              "        [-1.31e+00,  1.60e-01, -1.71e-01, -1.04e+00],\n",
              "        [ 1.42e+00,  1.49e+00, -6.87e-01, -1.04e+00],\n",
              "        [ 1.67e+00, -6.97e-01, -2.31e+00,  9.57e-01],\n",
              "        [ 1.61e+00,  9.74e-01,  9.13e-01,  9.57e-01],\n",
              "        [ 1.18e+00, -1.38e+00, -1.26e+00, -1.04e+00],\n",
              "        [-7.05e-01, -1.40e-01, -7.93e-01,  9.57e-01],\n",
              "        [ 1.18e+00,  9.74e-01,  1.31e+00,  9.57e-01],\n",
              "        [ 2.08e-01,  4.60e-01, -7.62e-01, -1.04e+00],\n",
              "        [ 1.24e+00, -1.17e+00,  1.13e+00,  9.57e-01],\n",
              "        [-1.13e+00,  4.60e-01,  5.92e-01, -1.04e+00],\n",
              "        [-2.18e-01,  1.06e+00,  2.29e+00, -1.04e+00],\n",
              "        [ 1.24e+00,  6.74e-01,  1.60e+00,  9.57e-01],\n",
              "        [ 1.61e+00,  3.74e-01, -1.23e-01, -1.04e+00],\n",
              "        [ 1.06e+00, -1.17e+00,  7.57e-02, -1.04e+00],\n",
              "        [ 1.42e+00,  1.17e-01,  6.75e-01, -1.04e+00],\n",
              "        [-9.64e-02, -8.69e-01, -6.69e-01,  9.57e-01],\n",
              "        [-2.18e-01, -1.21e+00,  1.11e-01,  9.57e-01],\n",
              "        [-1.80e+00,  1.19e+00,  1.12e+00, -1.04e+00],\n",
              "        [ 1.06e+00, -2.26e-01,  3.40e-01,  9.57e-01],\n",
              "        [-1.50e+00, -6.54e-01, -6.39e-01,  9.57e-01],\n",
              "        [-1.37e+00,  7.17e-01,  5.47e-01,  9.57e-01],\n",
              "        [ 9.38e-01, -2.26e-01, -3.48e-01, -1.04e+00],\n",
              "        [ 3.90e-01, -9.54e-01, -6.30e-01, -1.04e+00],\n",
              "        [-9.64e-02,  3.31e-01, -6.74e-01,  9.57e-01],\n",
              "        [ 3.29e-01,  1.36e+00,  1.98e+00, -1.04e+00],\n",
              "        [ 1.30e+00, -5.46e-02,  1.73e-01, -1.04e+00],\n",
              "        [-1.68e+00, -1.47e+00, -8.28e-01,  9.57e-01],\n",
              "        [ 7.55e-01, -1.34e+00, -1.79e+00, -1.04e+00],\n",
              "        [-8.87e-01,  3.11e-02,  2.30e-01,  9.57e-01],\n",
              "        [-2.18e-01, -1.60e+00, -1.34e+00,  9.57e-01],\n",
              "        [-1.56e+00, -9.54e-01,  5.78e-01, -1.04e+00],\n",
              "        [-1.07e+00, -1.60e+00, -7.27e-01,  9.57e-01],\n",
              "        [ 4.51e-01,  1.32e+00,  1.87e+00, -1.04e+00],\n",
              "        [-2.79e-01,  1.27e+00,  1.03e+00, -1.04e+00],\n",
              "        [ 1.47e-01, -1.68e+00, -1.05e+00, -1.04e+00],\n",
              "        [ 6.94e-01,  9.74e-01,  1.79e+00,  9.57e-01],\n",
              "        [-1.56e+00, -5.46e-02, -1.00e+00,  9.57e-01],\n",
              "        [-8.87e-01,  1.06e+00,  8.01e-02, -1.04e+00],\n",
              "        [-3.55e-02,  7.59e-01,  6.53e-01,  9.57e-01],\n",
              "        [-1.57e-01,  7.17e-01,  1.05e+00, -1.04e+00],\n",
              "        [-1.50e+00,  1.06e+00,  4.33e-01, -1.04e+00],\n",
              "        [-1.50e+00, -3.12e-01, -6.25e-01,  9.57e-01],\n",
              "        [-1.50e+00, -8.69e-01, -1.05e+00,  9.57e-01],\n",
              "        [-1.68e+00, -3.12e-01, -6.21e-01,  9.57e-01],\n",
              "        [-1.19e+00, -6.97e-01, -1.40e-01, -1.04e+00],\n",
              "        [-6.44e-01,  1.45e+00,  6.09e-01,  9.57e-01],\n",
              "        [-1.37e+00, -1.83e-01, -1.58e-01, -1.04e+00],\n",
              "        [-3.40e-01, -1.21e+00,  7.90e-01,  9.57e-01]]),\n",
              " 380    0\n",
              " 155    0\n",
              " 382    0\n",
              " 65     1\n",
              " 294    0\n",
              "       ..\n",
              " 146    0\n",
              " 348    0\n",
              " 293    1\n",
              " 73     0\n",
              " 143    0\n",
              " Name: Diabetes, Length: 80, dtype: int64)"
            ]
          },
          "metadata": {},
          "execution_count": 87
        }
      ]
    }
  ],
  "metadata": {
    "colab": {
      "provenance": [],
      "authorship_tag": "ABX9TyMnG4UQl+dM2A88reWtALOF",
      "include_colab_link": true
    },
    "kernelspec": {
      "display_name": "Python 3",
      "name": "python3"
    },
    "language_info": {
      "name": "python"
    },
    "widgets": {
      "application/vnd.jupyter.widget-state+json": {
        "0b2f863ddae9449e9171cf918dd68d04": {
          "model_module": "@jupyter-widgets/controls",
          "model_module_version": "1.5.0",
          "model_name": "IntSliderModel",
          "state": {
            "_dom_classes": [],
            "_model_module": "@jupyter-widgets/controls",
            "_model_module_version": "1.5.0",
            "_model_name": "IntSliderModel",
            "_view_count": null,
            "_view_module": "@jupyter-widgets/controls",
            "_view_module_version": "1.5.0",
            "_view_name": "IntSliderView",
            "continuous_update": true,
            "description": "b",
            "description_tooltip": null,
            "disabled": false,
            "layout": "IPY_MODEL_998da539ab8c4290a8b8c051b73f90c0",
            "max": 100,
            "min": -100,
            "orientation": "horizontal",
            "readout": true,
            "readout_format": "d",
            "step": 1,
            "style": "IPY_MODEL_844fa5d849ec4cd6bf2584ef5ba564ee",
            "value": 27
          }
        },
        "3f614972d0364b6fb59cfb1294d24c01": {
          "model_module": "@jupyter-widgets/controls",
          "model_module_version": "1.5.0",
          "model_name": "SliderStyleModel",
          "state": {
            "_model_module": "@jupyter-widgets/controls",
            "_model_module_version": "1.5.0",
            "_model_name": "SliderStyleModel",
            "_view_count": null,
            "_view_module": "@jupyter-widgets/base",
            "_view_module_version": "1.2.0",
            "_view_name": "StyleView",
            "description_width": "",
            "handle_color": null
          }
        },
        "54dde88cb4e0449ba17ccc32104bbfa1": {
          "model_module": "@jupyter-widgets/base",
          "model_module_version": "1.2.0",
          "model_name": "LayoutModel",
          "state": {
            "_model_module": "@jupyter-widgets/base",
            "_model_module_version": "1.2.0",
            "_model_name": "LayoutModel",
            "_view_count": null,
            "_view_module": "@jupyter-widgets/base",
            "_view_module_version": "1.2.0",
            "_view_name": "LayoutView",
            "align_content": null,
            "align_items": null,
            "align_self": null,
            "border": null,
            "bottom": null,
            "display": null,
            "flex": null,
            "flex_flow": null,
            "grid_area": null,
            "grid_auto_columns": null,
            "grid_auto_flow": null,
            "grid_auto_rows": null,
            "grid_column": null,
            "grid_gap": null,
            "grid_row": null,
            "grid_template_areas": null,
            "grid_template_columns": null,
            "grid_template_rows": null,
            "height": null,
            "justify_content": null,
            "justify_items": null,
            "left": null,
            "margin": null,
            "max_height": null,
            "max_width": null,
            "min_height": null,
            "min_width": null,
            "object_fit": null,
            "object_position": null,
            "order": null,
            "overflow": null,
            "overflow_x": null,
            "overflow_y": null,
            "padding": null,
            "right": null,
            "top": null,
            "visibility": null,
            "width": null
          }
        },
        "83409b499f484d1bb104c6ed40996267": {
          "model_module": "@jupyter-widgets/controls",
          "model_module_version": "1.5.0",
          "model_name": "IntSliderModel",
          "state": {
            "_dom_classes": [],
            "_model_module": "@jupyter-widgets/controls",
            "_model_module_version": "1.5.0",
            "_model_name": "IntSliderModel",
            "_view_count": null,
            "_view_module": "@jupyter-widgets/controls",
            "_view_module_version": "1.5.0",
            "_view_name": "IntSliderView",
            "continuous_update": true,
            "description": "w",
            "description_tooltip": null,
            "disabled": false,
            "layout": "IPY_MODEL_54dde88cb4e0449ba17ccc32104bbfa1",
            "max": 20,
            "min": -20,
            "orientation": "horizontal",
            "readout": true,
            "readout_format": "d",
            "step": 1,
            "style": "IPY_MODEL_3f614972d0364b6fb59cfb1294d24c01",
            "value": 9
          }
        },
        "844fa5d849ec4cd6bf2584ef5ba564ee": {
          "model_module": "@jupyter-widgets/controls",
          "model_module_version": "1.5.0",
          "model_name": "SliderStyleModel",
          "state": {
            "_model_module": "@jupyter-widgets/controls",
            "_model_module_version": "1.5.0",
            "_model_name": "SliderStyleModel",
            "_view_count": null,
            "_view_module": "@jupyter-widgets/base",
            "_view_module_version": "1.2.0",
            "_view_name": "StyleView",
            "description_width": "",
            "handle_color": null
          }
        },
        "998da539ab8c4290a8b8c051b73f90c0": {
          "model_module": "@jupyter-widgets/base",
          "model_module_version": "1.2.0",
          "model_name": "LayoutModel",
          "state": {
            "_model_module": "@jupyter-widgets/base",
            "_model_module_version": "1.2.0",
            "_model_name": "LayoutModel",
            "_view_count": null,
            "_view_module": "@jupyter-widgets/base",
            "_view_module_version": "1.2.0",
            "_view_name": "LayoutView",
            "align_content": null,
            "align_items": null,
            "align_self": null,
            "border": null,
            "bottom": null,
            "display": null,
            "flex": null,
            "flex_flow": null,
            "grid_area": null,
            "grid_auto_columns": null,
            "grid_auto_flow": null,
            "grid_auto_rows": null,
            "grid_column": null,
            "grid_gap": null,
            "grid_row": null,
            "grid_template_areas": null,
            "grid_template_columns": null,
            "grid_template_rows": null,
            "height": null,
            "justify_content": null,
            "justify_items": null,
            "left": null,
            "margin": null,
            "max_height": null,
            "max_width": null,
            "min_height": null,
            "min_width": null,
            "object_fit": null,
            "object_position": null,
            "order": null,
            "overflow": null,
            "overflow_x": null,
            "overflow_y": null,
            "padding": null,
            "right": null,
            "top": null,
            "visibility": null,
            "width": null
          }
        },
        "a9ec63d295d94ab3b110d58e7f7e15af": {
          "model_module": "@jupyter-widgets/controls",
          "model_module_version": "1.5.0",
          "model_name": "VBoxModel",
          "state": {
            "_dom_classes": [
              "widget-interact"
            ],
            "_model_module": "@jupyter-widgets/controls",
            "_model_module_version": "1.5.0",
            "_model_name": "VBoxModel",
            "_view_count": null,
            "_view_module": "@jupyter-widgets/controls",
            "_view_module_version": "1.5.0",
            "_view_name": "VBoxView",
            "box_style": "",
            "children": [
              "IPY_MODEL_83409b499f484d1bb104c6ed40996267",
              "IPY_MODEL_0b2f863ddae9449e9171cf918dd68d04",
              "IPY_MODEL_b2a6804f4d97499a8fba513d05f4071e"
            ],
            "layout": "IPY_MODEL_facf99fc8f7c4621974b1b6d07e17a10"
          }
        },
        "b2a6804f4d97499a8fba513d05f4071e": {
          "model_module": "@jupyter-widgets/output",
          "model_module_version": "1.0.0",
          "model_name": "OutputModel",
          "state": {
            "_dom_classes": [],
            "_model_module": "@jupyter-widgets/output",
            "_model_module_version": "1.0.0",
            "_model_name": "OutputModel",
            "_view_count": null,
            "_view_module": "@jupyter-widgets/output",
            "_view_module_version": "1.0.0",
            "_view_name": "OutputView",
            "layout": "IPY_MODEL_b5c5f1b6d532421e9ba3872a1563f797",
            "msg_id": "",
            "outputs": [
              {
                "data": {
                  "image/png": "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\n",
                  "text/plain": "<Figure size 500x300 with 1 Axes>"
                },
                "metadata": {},
                "output_type": "display_data"
              }
            ]
          }
        },
        "b5c5f1b6d532421e9ba3872a1563f797": {
          "model_module": "@jupyter-widgets/base",
          "model_module_version": "1.2.0",
          "model_name": "LayoutModel",
          "state": {
            "_model_module": "@jupyter-widgets/base",
            "_model_module_version": "1.2.0",
            "_model_name": "LayoutModel",
            "_view_count": null,
            "_view_module": "@jupyter-widgets/base",
            "_view_module_version": "1.2.0",
            "_view_name": "LayoutView",
            "align_content": null,
            "align_items": null,
            "align_self": null,
            "border": null,
            "bottom": null,
            "display": null,
            "flex": null,
            "flex_flow": null,
            "grid_area": null,
            "grid_auto_columns": null,
            "grid_auto_flow": null,
            "grid_auto_rows": null,
            "grid_column": null,
            "grid_gap": null,
            "grid_row": null,
            "grid_template_areas": null,
            "grid_template_columns": null,
            "grid_template_rows": null,
            "height": null,
            "justify_content": null,
            "justify_items": null,
            "left": null,
            "margin": null,
            "max_height": null,
            "max_width": null,
            "min_height": null,
            "min_width": null,
            "object_fit": null,
            "object_position": null,
            "order": null,
            "overflow": null,
            "overflow_x": null,
            "overflow_y": null,
            "padding": null,
            "right": null,
            "top": null,
            "visibility": null,
            "width": null
          }
        },
        "facf99fc8f7c4621974b1b6d07e17a10": {
          "model_module": "@jupyter-widgets/base",
          "model_module_version": "1.2.0",
          "model_name": "LayoutModel",
          "state": {
            "_model_module": "@jupyter-widgets/base",
            "_model_module_version": "1.2.0",
            "_model_name": "LayoutModel",
            "_view_count": null,
            "_view_module": "@jupyter-widgets/base",
            "_view_module_version": "1.2.0",
            "_view_name": "LayoutView",
            "align_content": null,
            "align_items": null,
            "align_self": null,
            "border": null,
            "bottom": null,
            "display": null,
            "flex": null,
            "flex_flow": null,
            "grid_area": null,
            "grid_auto_columns": null,
            "grid_auto_flow": null,
            "grid_auto_rows": null,
            "grid_column": null,
            "grid_gap": null,
            "grid_row": null,
            "grid_template_areas": null,
            "grid_template_columns": null,
            "grid_template_rows": null,
            "height": null,
            "justify_content": null,
            "justify_items": null,
            "left": null,
            "margin": null,
            "max_height": null,
            "max_width": null,
            "min_height": null,
            "min_width": null,
            "object_fit": null,
            "object_position": null,
            "order": null,
            "overflow": null,
            "overflow_x": null,
            "overflow_y": null,
            "padding": null,
            "right": null,
            "top": null,
            "visibility": null,
            "width": null
          }
        }
      }
    }
  },
  "nbformat": 4,
  "nbformat_minor": 0
}